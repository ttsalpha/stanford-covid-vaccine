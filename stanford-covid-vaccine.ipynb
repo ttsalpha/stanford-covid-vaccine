{
 "cells": [
  {
   "cell_type": "markdown",
   "source": [
    "# **Stanford COVID Vaccine**\n",
    "\n",
    "OpenVaccine: COVID-19 mRNA Vaccine Degradation Prediction"
   ],
   "metadata": {
    "collapsed": false,
    "pycharm": {
     "name": "#%% md\n"
    }
   }
  },
  {
   "cell_type": "markdown",
   "source": [
    "**Add the necessary libraries**"
   ],
   "metadata": {
    "collapsed": false,
    "pycharm": {
     "name": "#%% md\n"
    }
   }
  },
  {
   "cell_type": "code",
   "execution_count": null,
   "metadata": {
    "_cell_guid": "79c7e3d0-c299-4dcb-8224-4455121ee9b0",
    "_kg_hide-input": false,
    "_uuid": "d629ff2d2480ee46fbb7e2d37f6b5fab8052498a",
    "execution": {
     "iopub.execute_input": "2022-01-05T10:32:11.951451Z",
     "iopub.status.busy": "2022-01-05T10:32:11.950249Z",
     "iopub.status.idle": "2022-01-05T10:32:13.919780Z",
     "shell.execute_reply": "2022-01-05T10:32:13.919244Z"
    },
    "papermill": {
     "duration": 1.998954,
     "end_time": "2022-01-05T10:32:13.919904",
     "exception": false,
     "start_time": "2022-01-05T10:32:11.920950",
     "status": "completed"
    },
    "tags": []
   },
   "outputs": [],
   "source": [
    "import os\n",
    "import warnings\n",
    "\n",
    "warnings.filterwarnings('ignore')\n",
    "\n",
    "# the basics\n",
    "import pandas as pd, numpy as np, seaborn as sns\n",
    "\n",
    "# data simulation library\n",
    "from matplotlib import pyplot as plt\n",
    "from tqdm import tqdm\n",
    "\n",
    "# for model evaluation\n",
    "from sklearn.model_selection import KFold\n",
    "\n",
    "import torch\n",
    "import torch.nn as nn\n",
    "import torch.optim as optim\n",
    "from torch.utils.data import DataLoader, TensorDataset\n",
    "\n",
    "device = torch.device(\"cuda\" if torch.cuda.is_available() else \"cpu\")"
   ]
  },
  {
   "cell_type": "markdown",
   "metadata": {
    "papermill": {
     "duration": 0.023784,
     "end_time": "2022-01-05T10:32:13.965674",
     "exception": false,
     "start_time": "2022-01-05T10:32:13.941890",
     "status": "completed"
    },
    "tags": []
   },
   "source": [
    "# A. Overview\n",
    "\n",
    "mRNA vaccines have taken the lead as the fastest vaccine candidates for COVID-19, but currently, they face key potential limitations. One of the biggest challenges right now is how to design super stable messenger RNA molecules (mRNA). Conventional vaccines (like your seasonal flu shots) are packaged in disposable syringes and shipped under refrigeration around the world, but that is not currently possible for mRNA vaccines."
   ]
  },
  {
   "cell_type": "code",
   "execution_count": null,
   "metadata": {
    "execution": {
     "iopub.execute_input": "2022-01-05T10:32:14.013448Z",
     "iopub.status.busy": "2022-01-05T10:32:14.012919Z",
     "iopub.status.idle": "2022-01-05T10:32:15.395129Z",
     "shell.execute_reply": "2022-01-05T10:32:15.394402Z"
    },
    "papermill": {
     "duration": 1.408315,
     "end_time": "2022-01-05T10:32:15.395263",
     "exception": false,
     "start_time": "2022-01-05T10:32:13.986948",
     "status": "completed"
    },
    "tags": []
   },
   "outputs": [],
   "source": [
    "# get comp data\n",
    "train = pd.read_json('/kaggle/input/stanford-covid-vaccine/train.json', lines=True)\n",
    "test = pd.read_json('/kaggle/input/stanford-covid-vaccine/test.json', lines=True)\n",
    "sample_sub = pd.read_csv('/kaggle/input/stanford-covid-vaccine/sample_submission.csv')"
   ]
  },
  {
   "cell_type": "markdown",
   "metadata": {
    "papermill": {
     "duration": 0.020968,
     "end_time": "2022-01-05T10:32:15.439421",
     "exception": false,
     "start_time": "2022-01-05T10:32:15.418453",
     "status": "completed"
    },
    "tags": []
   },
   "source": [
    "# B. Brief EDA\n",
    "\n",
    "**Training features are given as follows: [Detail](https://www.kaggle.com/c/stanford-covid-vaccine/data)**\n",
    "\n",
    "- **id** - An arbitrary identifier for each sample.\n",
    "- **seq_scored** - (68 in Train and Public Test, 91 in Private Test) Integer value denoting the number of positions used in scoring with predicted values. This should match the length of `reactivity`, `deg_*` and `*_error_*` columns. Note that molecules used for the Private Test will be longer than those in the Train and Public Test data, so the size of this vector will be different.\n",
    "- **seq_length** - (107 in Train and Public Test, 130 in Private Test) Integer values, denotes the length of `sequence`. Note that molecules used for the Private Test will be longer than those in the Train and Public Test data, so the size of this vector will be different.\n",
    "- **sequence** - (1x107 string in Train and Public Test, 130 in Private Test) Describes the RNA sequence, a combination of `A`, `G`, `U`, and `C` for each sample. Should be 107 characters long, and the first 68 bases should correspond to the 68 positions specified in `seq_scored` (note: indexed starting at 0).\n",
    "- **structure** - (1x107 string in Train and Public Test, 130 in Private Test) An array of `(`, `)`, and `.` characters that describe whether a base is estimated to be paired or unpaired. Paired bases are denoted by opening and closing parentheses e.g. (....) means that base 0 is paired to base 5, and bases 1-4 are unpaired.\n",
    "- **reactivity** - (1x68 vector in Train and Public Test, 1x91 in Private Test) An array of floating point numbers, should have the same length as `seq_scored`. These numbers are reactivity values for the first 68 bases as denoted in `sequence`, and used to determine the likely secondary structure of the RNA sample.\n",
    "- **deg_pH10** - (1x68 vector in Train and Public Test, 1x91 in Private Test) An array of floating point numbers, should have the same length as `seq_scored`. These numbers are reactivity values for the first 68 bases as denoted in `sequence`, and used to determine the likelihood of degradation at the base/linkage after incubating without magnesium at high pH (pH 10).\n",
    "- **deg_Mg_pH10** - (1x68 vector in Train and Public Test, 1x91 in Private Test) An array of floating point numbers, should have the same length as `seq_scored`. These numbers are reactivity values for the first 68 bases as denoted in `sequence`, and used to determine the likelihood of degradation at the base/linkage after incubating with magnesium in high pH (pH 10).\n",
    "- **deg_50C** - (1x68 vector in Train and Public Test, 1x91 in Private Test) An array of floating point numbers, should have the same length as `seq_scored`. These numbers are reactivity values for the first 68 bases as denoted in `sequence`, and used to determine the likelihood of degradation at the base/linkage after incubating without magnesium at high temperature (50 degrees Celsius).\n",
    "- **deg_Mg_50C** - (1x68 vector in Train and Public Test, 1x91 in Private Test) An array of floating point numbers, should have the same length as `seq_scored`. These numbers are reactivity values for the first 68 bases as denoted in `sequence`, and used to determine the likelihood of degradation at the base/linkage after incubating with magnesium at high temperature (50 degrees Celsius).\n",
    "- **`*_error_*`** - An array of floating point numbers, should have the same length as the corresponding `reactivity` or `deg_*` columns, calculated errors in experimental values obtained in `reactivity` and `deg_*` columns.\n",
    "- **predicted_loop_type** - (1x107 string) Describes the structural context (also referred to as 'loop type')of each character in `sequence`. Loop types assigned by bpRNA from Vienna RNAfold 2 structure. From the bpRNA_documentation: S: paired \"Stem\" M: Multiloop I: Internal loop B: Bulge H: Hairpin loop E: dangling End X: eXternal loop"
   ]
  },
  {
   "cell_type": "code",
   "execution_count": null,
   "metadata": {
    "execution": {
     "iopub.execute_input": "2022-01-05T10:32:15.486607Z",
     "iopub.status.busy": "2022-01-05T10:32:15.485920Z",
     "iopub.status.idle": "2022-01-05T10:32:15.490316Z",
     "shell.execute_reply": "2022-01-05T10:32:15.490926Z"
    },
    "papermill": {
     "duration": 0.030582,
     "end_time": "2022-01-05T10:32:15.491074",
     "exception": false,
     "start_time": "2022-01-05T10:32:15.460492",
     "status": "completed"
    },
    "tags": []
   },
   "outputs": [],
   "source": [
    "print(train.columns)"
   ]
  },
  {
   "cell_type": "code",
   "execution_count": null,
   "metadata": {
    "execution": {
     "iopub.execute_input": "2022-01-05T10:32:15.632761Z",
     "iopub.status.busy": "2022-01-05T10:32:15.631345Z",
     "iopub.status.idle": "2022-01-05T10:32:15.680406Z",
     "shell.execute_reply": "2022-01-05T10:32:15.679953Z"
    },
    "papermill": {
     "duration": 0.123782,
     "end_time": "2022-01-05T10:32:15.680501",
     "exception": false,
     "start_time": "2022-01-05T10:32:15.556719",
     "status": "completed"
    },
    "tags": []
   },
   "outputs": [],
   "source": [
    "# sneak peak\n",
    "print(train.shape)\n",
    "if ~ train.isnull().values.any(): print('No missing values')\n",
    "train.head()"
   ]
  },
  {
   "cell_type": "code",
   "execution_count": null,
   "metadata": {
    "execution": {
     "iopub.execute_input": "2022-01-05T10:32:15.745157Z",
     "iopub.status.busy": "2022-01-05T10:32:15.738952Z",
     "iopub.status.idle": "2022-01-05T10:32:15.750477Z",
     "shell.execute_reply": "2022-01-05T10:32:15.749859Z"
    },
    "papermill": {
     "duration": 0.046271,
     "end_time": "2022-01-05T10:32:15.750615",
     "exception": false,
     "start_time": "2022-01-05T10:32:15.704344",
     "status": "completed"
    },
    "tags": []
   },
   "outputs": [],
   "source": [
    "# sneak peak\n",
    "print(test.shape)\n",
    "if ~ test.isnull().values.any(): print('No missing values')\n",
    "test.head()"
   ]
  },
  {
   "cell_type": "code",
   "execution_count": null,
   "metadata": {
    "execution": {
     "iopub.execute_input": "2022-01-05T10:32:15.804106Z",
     "iopub.status.busy": "2022-01-05T10:32:15.803199Z",
     "iopub.status.idle": "2022-01-05T10:32:15.865731Z",
     "shell.execute_reply": "2022-01-05T10:32:15.866376Z"
    },
    "papermill": {
     "duration": 0.091908,
     "end_time": "2022-01-05T10:32:15.866532",
     "exception": false,
     "start_time": "2022-01-05T10:32:15.774624",
     "status": "completed"
    },
    "tags": []
   },
   "outputs": [],
   "source": [
    "# sneak peak\n",
    "print(sample_sub.shape)\n",
    "if ~ sample_sub.isnull().values.any(): print('No missing values')\n",
    "sample_sub.head()"
   ]
  },
  {
   "cell_type": "markdown",
   "metadata": {
    "papermill": {
     "duration": 0.027548,
     "end_time": "2022-01-05T10:32:15.922357",
     "exception": false,
     "start_time": "2022-01-05T10:32:15.894809",
     "status": "completed"
    },
    "tags": []
   },
   "source": [
    "Explore `signal_to_noise` and `SN_filter` distributions. As per the data tab of this competition the samples in `test.json` have been filtered in the following way: [Detail](https://www.kaggle.com/c/stanford-covid-vaccine/data)\n",
    "\n",
    "1. Minimum value across all 5 conditions must be greater than -0.5.\n",
    "2. Mean signal/noise across all 5 conditions must be greater than 1.0. [Signal/noise is defined as mean( measurement value over 68 nts )/mean( statistical error in measurement value over 68 nts)]\n",
    "3. To help ensure sequence diversity, the resulting sequences were clustered into clusters with less than 50% sequence similarity, and the 629 test set sequences were chosen from clusters with 3 or fewer members. That is, any sequence in the test set should be sequence similar to at most 2 other sequences.\n",
    "\n",
    "But these filters have not been applied to the samples in `train.json` or the private test set of this competition, so we will likely see public leaderboard improvement by filtering `train.json` the same way that `test.json` was filtered."
   ]
  },
  {
   "cell_type": "code",
   "execution_count": null,
   "metadata": {
    "execution": {
     "iopub.execute_input": "2022-01-05T10:32:15.985455Z",
     "iopub.status.busy": "2022-01-05T10:32:15.984853Z",
     "iopub.status.idle": "2022-01-05T10:32:16.286178Z",
     "shell.execute_reply": "2022-01-05T10:32:16.286708Z"
    },
    "papermill": {
     "duration": 0.336561,
     "end_time": "2022-01-05T10:32:16.286854",
     "exception": false,
     "start_time": "2022-01-05T10:32:15.950293",
     "status": "completed"
    },
    "tags": []
   },
   "outputs": [],
   "source": [
    "fig, ax = plt.subplots(1, 2, figsize=(15, 5))\n",
    "sns.kdeplot(train['signal_to_noise'], shade=True, ax=ax[0])\n",
    "sns.countplot(train['SN_filter'], ax=ax[1])\n",
    "\n",
    "ax[0].set_title('Signal/Noise Distribution')\n",
    "ax[1].set_title('Signal/Noise Filter Distribution');"
   ]
  },
  {
   "cell_type": "code",
   "execution_count": null,
   "metadata": {
    "execution": {
     "iopub.execute_input": "2022-01-05T10:32:16.364416Z",
     "iopub.status.busy": "2022-01-05T10:32:16.363518Z",
     "iopub.status.idle": "2022-01-05T10:32:16.377116Z",
     "shell.execute_reply": "2022-01-05T10:32:16.375546Z"
    },
    "papermill": {
     "duration": 0.06277,
     "end_time": "2022-01-05T10:32:16.377280",
     "exception": false,
     "start_time": "2022-01-05T10:32:16.314510",
     "status": "completed"
    },
    "tags": []
   },
   "outputs": [],
   "source": [
    "print(f\"Samples with signal_to_noise greater than 1: {len(train.loc[(train['signal_to_noise'] > 1)])}\")\n",
    "print(f\"Samples with SN_filter = 1: {len(train.loc[(train['SN_filter'] == 1)])}\")"
   ]
  },
  {
   "cell_type": "markdown",
   "metadata": {
    "papermill": {
     "duration": 0.025669,
     "end_time": "2022-01-05T10:32:16.493232",
     "exception": false,
     "start_time": "2022-01-05T10:32:16.467563",
     "status": "completed"
    },
    "tags": []
   },
   "source": [
    "# C. Processing"
   ]
  },
  {
   "cell_type": "code",
   "execution_count": null,
   "metadata": {
    "execution": {
     "iopub.execute_input": "2022-01-05T10:32:16.549878Z",
     "iopub.status.busy": "2022-01-05T10:32:16.549014Z",
     "iopub.status.idle": "2022-01-05T10:32:16.551704Z",
     "shell.execute_reply": "2022-01-05T10:32:16.551280Z"
    },
    "papermill": {
     "duration": 0.032602,
     "end_time": "2022-01-05T10:32:16.551796",
     "exception": false,
     "start_time": "2022-01-05T10:32:16.519194",
     "status": "completed"
    },
    "tags": []
   },
   "outputs": [],
   "source": [
    "# target columns\n",
    "target_cols = ['reactivity', 'deg_Mg_pH10', 'deg_pH10', 'deg_Mg_50C', 'deg_50C']"
   ]
  },
  {
   "cell_type": "markdown",
   "metadata": {
    "papermill": {
     "duration": 0.025696,
     "end_time": "2022-01-05T10:32:16.603821",
     "exception": false,
     "start_time": "2022-01-05T10:32:16.578125",
     "status": "completed"
    },
    "tags": []
   },
   "source": [
    "tokenize the RNA sequence so it can be feed in my model:"
   ]
  },
  {
   "cell_type": "code",
   "execution_count": null,
   "metadata": {
    "execution": {
     "iopub.execute_input": "2022-01-05T10:32:16.672210Z",
     "iopub.status.busy": "2022-01-05T10:32:16.670667Z",
     "iopub.status.idle": "2022-01-05T10:32:16.672988Z",
     "shell.execute_reply": "2022-01-05T10:32:16.671508Z"
    },
    "papermill": {
     "duration": 0.04299,
     "end_time": "2022-01-05T10:32:16.673126",
     "exception": false,
     "start_time": "2022-01-05T10:32:16.630136",
     "status": "completed"
    },
    "tags": []
   },
   "outputs": [],
   "source": [
    "token2int = {x: i for i, x in enumerate('().ACGUBEHIMSX')}"
   ]
  },
  {
   "cell_type": "code",
   "execution_count": null,
   "metadata": {
    "execution": {
     "iopub.execute_input": "2022-01-05T10:32:16.763347Z",
     "iopub.status.busy": "2022-01-05T10:32:16.762664Z",
     "iopub.status.idle": "2022-01-05T10:32:16.766182Z",
     "shell.execute_reply": "2022-01-05T10:32:16.765667Z"
    },
    "papermill": {
     "duration": 0.047368,
     "end_time": "2022-01-05T10:32:16.766273",
     "exception": false,
     "start_time": "2022-01-05T10:32:16.718905",
     "status": "completed"
    },
    "tags": []
   },
   "outputs": [],
   "source": [
    "def preprocess_inputs(df, cols=None):\n",
    "    if cols is None:\n",
    "        cols = ['sequence', 'structure', 'predicted_loop_type']\n",
    "    return np.transpose(\n",
    "        np.array(\n",
    "            df[cols]\n",
    "                .applymap(lambda seq: [token2int[x] for x in seq])\n",
    "                .values\n",
    "                .tolist()\n",
    "        ), (0, 2, 1)\n",
    "    )"
   ]
  },
  {
   "cell_type": "code",
   "execution_count": null,
   "metadata": {
    "execution": {
     "iopub.execute_input": "2022-01-05T10:32:16.881902Z",
     "iopub.status.busy": "2022-01-05T10:32:16.881163Z",
     "iopub.status.idle": "2022-01-05T10:32:20.466669Z",
     "shell.execute_reply": "2022-01-05T10:32:20.465978Z"
    },
    "papermill": {
     "duration": 3.620834,
     "end_time": "2022-01-05T10:32:20.466781",
     "exception": false,
     "start_time": "2022-01-05T10:32:16.845947",
     "status": "completed"
    },
    "tags": []
   },
   "outputs": [],
   "source": [
    "train_filtered = train.loc[train.SN_filter == 1]\n",
    "train_inputs = torch.tensor(preprocess_inputs(train_filtered)).to(device)\n",
    "print(\"input shape: \", train_inputs.shape)\n",
    "train_labels = torch.tensor(\n",
    "    np.array(train_filtered[target_cols].values.tolist()).transpose(0, 2, 1)\n",
    ").float().to(device)\n",
    "print(\"output shape: \", train_labels.shape)"
   ]
  },
  {
   "cell_type": "markdown",
   "metadata": {
    "papermill": {
     "duration": 0.02659,
     "end_time": "2022-01-05T10:32:20.520225",
     "exception": false,
     "start_time": "2022-01-05T10:32:20.493635",
     "status": "completed"
    },
    "tags": []
   },
   "source": [
    "# D. Model\n",
    "\n",
    "Note that for submission, the output must be the same length as the input, which is 107 for `train.json` and `test.json` and 130 for the private test set. However, this is not true for training, so training prediction sequences only need to be 68 long.\n",
    "\n",
    "So actually build 3 different models: one for training, one for predicting public test, and one for predicting private test set, each with different sequence lengths and prediction lengths. Actually, we only need to train one model, save its weights, and load these weights into the other models.\n",
    "\n",
    "The last thing to set is the size of the embedding layer. Use 100 for now as a starting point:"
   ]
  },
  {
   "cell_type": "code",
   "execution_count": null,
   "outputs": [],
   "source": [
    "len(token2int)"
   ],
   "metadata": {
    "collapsed": false,
    "pycharm": {
     "name": "#%%\n"
    }
   }
  },
  {
   "cell_type": "code",
   "execution_count": null,
   "metadata": {
    "execution": {
     "iopub.execute_input": "2022-01-05T10:32:20.655429Z",
     "iopub.status.busy": "2022-01-05T10:32:20.653588Z",
     "iopub.status.idle": "2022-01-05T10:32:20.656083Z",
     "shell.execute_reply": "2022-01-05T10:32:20.656491Z"
    },
    "papermill": {
     "duration": 0.048287,
     "end_time": "2022-01-05T10:32:20.656615",
     "exception": false,
     "start_time": "2022-01-05T10:32:20.608328",
     "status": "completed"
    },
    "tags": []
   },
   "outputs": [],
   "source": [
    "class GRU_model(nn.Module):\n",
    "    def __init__(\n",
    "            self, seq_len=107, pred_len=68, dropout=0.5, embed_dim=100, hidden_dim=128, hidden_layers=3\n",
    "    ):\n",
    "        super(GRU_model, self).__init__()\n",
    "        self.pred_len = pred_len\n",
    "\n",
    "        self.embeding = nn.Embedding(num_embeddings=len(token2int), embedding_dim=embed_dim)\n",
    "        self.gru = nn.GRU(\n",
    "            input_size=embed_dim * 3,\n",
    "            hidden_size=hidden_dim,\n",
    "            num_layers=hidden_layers,\n",
    "            dropout=dropout,\n",
    "            bidirectional=True,\n",
    "            batch_first=True,\n",
    "        )\n",
    "        self.linear = nn.Linear(hidden_dim * 2, 5)\n",
    "\n",
    "    def forward(self, seqs):\n",
    "        embed = self.embeding(seqs)\n",
    "        reshaped = torch.reshape(embed, (-1, embed.shape[1], embed.shape[2] * embed.shape[3]))\n",
    "        output, hidden = self.gru(reshaped)\n",
    "        truncated = output[:, : self.pred_len, :]\n",
    "        out = self.linear(truncated)\n",
    "        return out\n",
    "\n",
    "\n",
    "class LSTM_model(nn.Module):\n",
    "    def __init__(\n",
    "            self, seq_len=107, pred_len=68, dropout=0.5, embed_dim=100, hidden_dim=128, hidden_layers=3\n",
    "    ):\n",
    "        super(LSTM_model, self).__init__()\n",
    "        self.pred_len = pred_len\n",
    "\n",
    "        self.embeding = nn.Embedding(num_embeddings=len(token2int), embedding_dim=embed_dim)\n",
    "        self.gru = nn.LSTM(\n",
    "            input_size=embed_dim * 3,\n",
    "            hidden_size=hidden_dim,\n",
    "            num_layers=hidden_layers,\n",
    "            dropout=dropout,\n",
    "            bidirectional=True,\n",
    "            batch_first=True,\n",
    "        )\n",
    "        self.linear = nn.Linear(hidden_dim * 2, 5)\n",
    "\n",
    "    def forward(self, seqs):\n",
    "        embed = self.embeding(seqs)\n",
    "        reshaped = torch.reshape(embed, (-1, embed.shape[1], embed.shape[2] * embed.shape[3]))\n",
    "        output, hidden = self.gru(reshaped)\n",
    "        truncated = output[:, : self.pred_len, :]\n",
    "        out = self.linear(truncated)\n",
    "        return out\n",
    "\n",
    "\n",
    "mse_loss = nn.MSELoss()\n",
    "\n",
    "\n",
    "def compute_loss(batch_X, batch_Y, model, optimizer=None, is_train=True):\n",
    "    model.train(is_train)\n",
    "\n",
    "    pred_Y = model(batch_X)\n",
    "\n",
    "    loss = mse_loss(pred_Y, batch_Y)\n",
    "\n",
    "    if is_train:\n",
    "        optimizer.zero_grad()\n",
    "        loss.backward()\n",
    "        optimizer.step()\n",
    "\n",
    "    return loss.item()"
   ]
  },
  {
   "cell_type": "markdown",
   "metadata": {
    "papermill": {
     "duration": 0.026795,
     "end_time": "2022-01-05T10:32:20.710683",
     "exception": false,
     "start_time": "2022-01-05T10:32:20.683888",
     "status": "completed"
    },
    "tags": []
   },
   "source": [
    "# E. Training"
   ]
  },
  {
   "cell_type": "code",
   "execution_count": null,
   "metadata": {
    "execution": {
     "iopub.execute_input": "2022-01-05T10:32:20.770737Z",
     "iopub.status.busy": "2022-01-05T10:32:20.769857Z",
     "iopub.status.idle": "2022-01-05T10:32:20.771761Z",
     "shell.execute_reply": "2022-01-05T10:32:20.772205Z"
    },
    "papermill": {
     "duration": 0.034097,
     "end_time": "2022-01-05T10:32:20.772318",
     "exception": false,
     "start_time": "2022-01-05T10:32:20.738221",
     "status": "completed"
    },
    "tags": []
   },
   "outputs": [],
   "source": [
    "# basic training configuration\n",
    "FOLDS = 4\n",
    "EPOCHS = 90\n",
    "BATCH_SIZE = 64\n",
    "VERBOSE = 2\n",
    "LR = 0.01"
   ]
  },
  {
   "cell_type": "code",
   "execution_count": null,
   "metadata": {
    "execution": {
     "iopub.execute_input": "2022-01-05T10:32:20.836925Z",
     "iopub.status.busy": "2022-01-05T10:32:20.836372Z",
     "iopub.status.idle": "2022-01-05T10:32:21.300799Z",
     "shell.execute_reply": "2022-01-05T10:32:21.299956Z"
    },
    "papermill": {
     "duration": 0.501076,
     "end_time": "2022-01-05T10:32:21.300906",
     "exception": false,
     "start_time": "2022-01-05T10:32:20.799830",
     "status": "completed"
    },
    "tags": []
   },
   "outputs": [],
   "source": [
    "# get different test sets and process each\n",
    "public_df = test.query(\"seq_length == 107\").copy()\n",
    "private_df = test.query(\"seq_length == 130\").copy()\n",
    "\n",
    "public_inputs = torch.tensor(preprocess_inputs(public_df)).to(device)\n",
    "private_inputs = torch.tensor(preprocess_inputs(private_df)).to(device)\n",
    "\n",
    "public_loader = DataLoader(TensorDataset(public_inputs), shuffle=False, batch_size=BATCH_SIZE)\n",
    "private_loader = DataLoader(TensorDataset(private_inputs), shuffle=False, batch_size=BATCH_SIZE)"
   ]
  },
  {
   "cell_type": "markdown",
   "metadata": {
    "papermill": {
     "duration": 0.028238,
     "end_time": "2022-01-05T10:32:21.357417",
     "exception": false,
     "start_time": "2022-01-05T10:32:21.329179",
     "status": "completed"
    },
    "tags": []
   },
   "source": [
    "**Add a simple learning rate callback for now:**"
   ]
  },
  {
   "cell_type": "markdown",
   "metadata": {
    "papermill": {
     "duration": 0.027764,
     "end_time": "2022-01-05T10:32:21.412691",
     "exception": false,
     "start_time": "2022-01-05T10:32:21.384927",
     "status": "completed"
    },
    "tags": []
   },
   "source": [
    "## 1. GRU"
   ]
  },
  {
   "cell_type": "code",
   "execution_count": null,
   "metadata": {
    "execution": {
     "iopub.execute_input": "2022-01-05T10:32:21.480772Z",
     "iopub.status.busy": "2022-01-05T10:32:21.475588Z",
     "iopub.status.idle": "2022-01-05T10:38:49.152484Z",
     "shell.execute_reply": "2022-01-05T10:38:49.151962Z"
    },
    "papermill": {
     "duration": 387.712458,
     "end_time": "2022-01-05T10:38:49.152615",
     "exception": false,
     "start_time": "2022-01-05T10:32:21.440157",
     "status": "completed"
    },
    "tags": []
   },
   "outputs": [],
   "source": [
    "gru_histories = []\n",
    "gru_private_preds = np.zeros((private_df.shape[0], 130, 5))\n",
    "gru_public_preds = np.zeros((public_df.shape[0], 107, 5))\n",
    "\n",
    "kfold = KFold(FOLDS, shuffle=True, random_state=2020)\n",
    "\n",
    "for k, (train_index, val_index) in enumerate(kfold.split(train_inputs)):\n",
    "    train_dataset = TensorDataset(train_inputs[train_index], train_labels[train_index])\n",
    "    val_dataset = TensorDataset(train_inputs[val_index], train_labels[val_index])\n",
    "\n",
    "    train_loader = DataLoader(train_dataset, shuffle=True, batch_size=BATCH_SIZE)\n",
    "    val_loader = DataLoader(val_dataset, shuffle=False, batch_size=BATCH_SIZE)\n",
    "\n",
    "    model = GRU_model().to(device)\n",
    "    optimizer = optim.Adam(model.parameters(), lr=LR)\n",
    "\n",
    "    train_losses = []\n",
    "    val_losses = []\n",
    "    for epoch in tqdm(range(EPOCHS)):\n",
    "        train_losses_batch = []\n",
    "        val_losses_batch = []\n",
    "        for (batch_X, batch_Y) in train_loader:\n",
    "            train_loss = compute_loss(batch_X, batch_Y, model, optimizer=optimizer, is_train=True)\n",
    "            train_losses_batch.append(train_loss)\n",
    "        for (batch_X, batch_Y) in val_loader:\n",
    "            val_loss = compute_loss(batch_X, batch_Y, model, optimizer=optimizer, is_train=False)\n",
    "            val_losses_batch.append(val_loss)\n",
    "        train_losses.append(sum(train_losses_batch) / len(train_losses_batch))\n",
    "        val_losses.append(sum(val_losses_batch) / len(val_losses_batch))\n",
    "    model_state = model.state_dict()\n",
    "    del model\n",
    "\n",
    "    gru_histories.append({'train_loss': train_losses, 'val_loss': val_losses})\n",
    "\n",
    "    gru_short = GRU_model(seq_len=107, pred_len=107).to(device)\n",
    "    gru_short.load_state_dict(model_state)\n",
    "    gru_short.eval()\n",
    "    gru_public_pred = np.ndarray((0, 107, 5))\n",
    "    for batch in public_loader:\n",
    "        batch_X = batch[0]\n",
    "        pred = gru_short(batch_X).detach().cpu().numpy()\n",
    "        gru_public_pred = np.concatenate([gru_public_pred, pred], axis=0)\n",
    "    gru_public_preds += gru_public_pred / FOLDS\n",
    "\n",
    "    gru_long = GRU_model(seq_len=130, pred_len=130).to(device)\n",
    "    gru_long.load_state_dict(model_state)\n",
    "    gru_long.eval()\n",
    "    gru_private_pred = np.ndarray((0, 130, 5))\n",
    "    for batch in private_loader:\n",
    "        batch_X = batch[0]\n",
    "        pred = gru_long(batch_X).detach().cpu().numpy()\n",
    "        gru_private_pred = np.concatenate([gru_private_pred, pred], axis=0)\n",
    "    gru_private_preds += gru_private_pred / FOLDS\n",
    "\n",
    "    del gru_short, gru_long"
   ]
  },
  {
   "cell_type": "code",
   "execution_count": null,
   "metadata": {
    "execution": {
     "iopub.execute_input": "2022-01-05T10:38:49.420208Z",
     "iopub.status.busy": "2022-01-05T10:38:49.418987Z",
     "iopub.status.idle": "2022-01-05T10:38:49.422816Z",
     "shell.execute_reply": "2022-01-05T10:38:49.423232Z"
    },
    "papermill": {
     "duration": 0.138243,
     "end_time": "2022-01-05T10:38:49.423346",
     "exception": false,
     "start_time": "2022-01-05T10:38:49.285103",
     "status": "completed"
    },
    "tags": []
   },
   "outputs": [],
   "source": [
    "print(f\" GRU mean fold validation loss: {np.mean([min(history['val_loss']) for history in gru_histories])}\")"
   ]
  },
  {
   "cell_type": "markdown",
   "metadata": {
    "papermill": {
     "duration": 0.132442,
     "end_time": "2022-01-05T10:38:49.686252",
     "exception": false,
     "start_time": "2022-01-05T10:38:49.553810",
     "status": "completed"
    },
    "tags": []
   },
   "source": [
    "## 2. LSTM"
   ]
  },
  {
   "cell_type": "code",
   "execution_count": null,
   "metadata": {
    "_kg_hide-output": true,
    "execution": {
     "iopub.execute_input": "2022-01-05T10:38:49.968181Z",
     "iopub.status.busy": "2022-01-05T10:38:49.967002Z",
     "iopub.status.idle": "2022-01-05T10:45:56.998118Z",
     "shell.execute_reply": "2022-01-05T10:45:56.997605Z"
    },
    "papermill": {
     "duration": 427.181622,
     "end_time": "2022-01-05T10:45:56.998220",
     "exception": false,
     "start_time": "2022-01-05T10:38:49.816598",
     "status": "completed"
    },
    "tags": []
   },
   "outputs": [],
   "source": [
    "lstm_histories = []\n",
    "lstm_private_preds = np.zeros((private_df.shape[0], 130, 5))\n",
    "lstm_public_preds = np.zeros((public_df.shape[0], 107, 5))\n",
    "\n",
    "kfold = KFold(FOLDS, shuffle=True, random_state=2020)\n",
    "\n",
    "for k, (train_index, val_index) in enumerate(kfold.split(train_inputs)):\n",
    "    train_dataset = TensorDataset(train_inputs[train_index], train_labels[train_index])\n",
    "    val_dataset = TensorDataset(train_inputs[val_index], train_labels[val_index])\n",
    "\n",
    "    train_loader = DataLoader(train_dataset, shuffle=True, batch_size=BATCH_SIZE)\n",
    "    val_loader = DataLoader(val_dataset, shuffle=False, batch_size=BATCH_SIZE)\n",
    "\n",
    "    model = LSTM_model().to(device)\n",
    "    optimizer = optim.Adam(model.parameters(), lr=LR)\n",
    "\n",
    "    train_losses = []\n",
    "    val_losses = []\n",
    "    for epoch in tqdm(range(EPOCHS)):\n",
    "        train_losses_batch = []\n",
    "        val_losses_batch = []\n",
    "        for (batch_X, batch_Y) in train_loader:\n",
    "            train_loss = compute_loss(batch_X, batch_Y, model, optimizer=optimizer, is_train=True)\n",
    "            train_losses_batch.append(train_loss)\n",
    "        for (batch_X, batch_Y) in val_loader:\n",
    "            val_loss = compute_loss(batch_X, batch_Y, model, optimizer=optimizer, is_train=False)\n",
    "            val_losses_batch.append(val_loss)\n",
    "        train_losses.append(sum(train_losses_batch) / len(train_losses_batch))\n",
    "        val_losses.append(sum(val_losses_batch) / len(val_losses_batch))\n",
    "    model_state = model.state_dict()\n",
    "    del model\n",
    "\n",
    "    lstm_histories.append({'train_loss': train_losses, 'val_loss': val_losses})\n",
    "\n",
    "    lstm_short = LSTM_model(seq_len=107, pred_len=107).to(device)\n",
    "    lstm_short.load_state_dict(model_state)\n",
    "    lstm_short.eval()\n",
    "    lstm_public_pred = np.ndarray((0, 107, 5))\n",
    "    for batch in public_loader:\n",
    "        batch_X = batch[0]\n",
    "        pred = lstm_short(batch_X).detach().cpu().numpy()\n",
    "        lstm_public_pred = np.concatenate([lstm_public_pred, pred], axis=0)\n",
    "    lstm_public_preds += lstm_public_pred / FOLDS\n",
    "\n",
    "    lstm_long = LSTM_model(seq_len=130, pred_len=130).to(device)\n",
    "    lstm_long.load_state_dict(model_state)\n",
    "    lstm_long.eval()\n",
    "    lstm_private_pred = np.ndarray((0, 130, 5))\n",
    "    for batch in private_loader:\n",
    "        batch_X = batch[0]\n",
    "        pred = lstm_long(batch_X).detach().cpu().numpy()\n",
    "        lstm_private_pred = np.concatenate([lstm_private_pred, pred], axis=0)\n",
    "    lstm_private_preds += lstm_private_pred / FOLDS\n",
    "\n",
    "    del lstm_short, lstm_long"
   ]
  },
  {
   "cell_type": "code",
   "execution_count": null,
   "metadata": {
    "execution": {
     "iopub.execute_input": "2022-01-05T10:45:57.471049Z",
     "iopub.status.busy": "2022-01-05T10:45:57.470302Z",
     "iopub.status.idle": "2022-01-05T10:45:57.473729Z",
     "shell.execute_reply": "2022-01-05T10:45:57.474231Z"
    },
    "papermill": {
     "duration": 0.243393,
     "end_time": "2022-01-05T10:45:57.474367",
     "exception": false,
     "start_time": "2022-01-05T10:45:57.230974",
     "status": "completed"
    },
    "tags": []
   },
   "outputs": [],
   "source": [
    "print(f\" LSTM mean fold validation loss: {np.mean([min(history['val_loss']) for history in lstm_histories])}\")"
   ]
  },
  {
   "cell_type": "code",
   "execution_count": null,
   "metadata": {
    "_kg_hide-input": true,
    "execution": {
     "iopub.execute_input": "2022-01-05T10:45:57.948277Z",
     "iopub.status.busy": "2022-01-05T10:45:57.947410Z",
     "iopub.status.idle": "2022-01-05T10:45:58.250955Z",
     "shell.execute_reply": "2022-01-05T10:45:58.250396Z"
    },
    "papermill": {
     "duration": 0.545554,
     "end_time": "2022-01-05T10:45:58.251073",
     "exception": false,
     "start_time": "2022-01-05T10:45:57.705519",
     "status": "completed"
    },
    "tags": []
   },
   "outputs": [],
   "source": [
    "fig, ax = plt.subplots(1, 2, figsize=(20, 10))\n",
    "\n",
    "for history in gru_histories:\n",
    "    ax[0].plot(history['train_loss'], 'b')\n",
    "    ax[0].plot(history['val_loss'], 'r')\n",
    "for history in lstm_histories:\n",
    "    ax[1].plot(history['train_loss'], 'b')\n",
    "    ax[1].plot(history['val_loss'], 'r')\n",
    "\n",
    "ax[0].set_title('GRU')\n",
    "ax[1].set_title('LSTM')\n",
    "\n",
    "ax[0].legend(['train', 'validation'], loc='upper right')\n",
    "ax[1].legend(['train', 'validation'], loc='upper right')\n",
    "\n",
    "ax[0].set_ylabel('Loss')\n",
    "ax[0].set_xlabel('Epoch')\n",
    "ax[1].set_ylabel('Loss')\n",
    "ax[1].set_xlabel('Epoch');"
   ]
  },
  {
   "cell_type": "markdown",
   "metadata": {
    "papermill": {
     "duration": 0.23325,
     "end_time": "2022-01-05T10:45:58.718035",
     "exception": false,
     "start_time": "2022-01-05T10:45:58.484785",
     "status": "completed"
    },
    "tags": []
   },
   "source": [
    "# F. Submission"
   ]
  },
  {
   "cell_type": "code",
   "execution_count": null,
   "metadata": {
    "execution": {
     "iopub.execute_input": "2022-01-05T10:45:59.201589Z",
     "iopub.status.busy": "2022-01-05T10:45:59.200536Z",
     "iopub.status.idle": "2022-01-05T10:45:59.576605Z",
     "shell.execute_reply": "2022-01-05T10:45:59.575531Z"
    },
    "papermill": {
     "duration": 0.62692,
     "end_time": "2022-01-05T10:45:59.576719",
     "exception": false,
     "start_time": "2022-01-05T10:45:58.949799",
     "status": "completed"
    },
    "tags": []
   },
   "outputs": [],
   "source": [
    "public_df = test.query(\"seq_length == 107\").copy()\n",
    "private_df = test.query(\"seq_length == 130\").copy()\n",
    "\n",
    "public_inputs = preprocess_inputs(public_df)\n",
    "private_inputs = preprocess_inputs(private_df)"
   ]
  },
  {
   "cell_type": "markdown",
   "metadata": {
    "papermill": {
     "duration": 0.234425,
     "end_time": "2022-01-05T10:46:00.047410",
     "exception": false,
     "start_time": "2022-01-05T10:45:59.812985",
     "status": "completed"
    },
    "tags": []
   },
   "source": [
    "**Just need to change the shape of each sample to long format:**"
   ]
  },
  {
   "cell_type": "code",
   "execution_count": null,
   "metadata": {
    "execution": {
     "iopub.execute_input": "2022-01-05T10:46:00.533340Z",
     "iopub.status.busy": "2022-01-05T10:46:00.529988Z",
     "iopub.status.idle": "2022-01-05T10:46:03.791491Z",
     "shell.execute_reply": "2022-01-05T10:46:03.792671Z"
    },
    "papermill": {
     "duration": 3.510652,
     "end_time": "2022-01-05T10:46:03.792856",
     "exception": false,
     "start_time": "2022-01-05T10:46:00.282204",
     "status": "completed"
    },
    "tags": []
   },
   "outputs": [],
   "source": [
    "preds_gru = []\n",
    "\n",
    "for df, preds in [(public_df, gru_public_preds), (private_df, gru_private_preds)]:\n",
    "    for i, uid in enumerate(df.id):\n",
    "        single_pred = preds[i]\n",
    "\n",
    "        single_df = pd.DataFrame(single_pred, columns=target_cols)\n",
    "        single_df['id_seqpos'] = [f'{uid}_{x}' for x in range(single_df.shape[0])]\n",
    "\n",
    "        preds_gru.append(single_df)\n",
    "\n",
    "preds_gru_df = pd.concat(preds_gru)\n",
    "preds_gru_df.head()"
   ]
  },
  {
   "cell_type": "code",
   "execution_count": null,
   "metadata": {
    "execution": {
     "iopub.execute_input": "2022-01-05T10:46:04.839254Z",
     "iopub.status.busy": "2022-01-05T10:46:04.824148Z",
     "iopub.status.idle": "2022-01-05T10:46:08.361364Z",
     "shell.execute_reply": "2022-01-05T10:46:08.362374Z"
    },
    "papermill": {
     "duration": 3.792167,
     "end_time": "2022-01-05T10:46:08.362565",
     "exception": false,
     "start_time": "2022-01-05T10:46:04.570398",
     "status": "completed"
    },
    "tags": []
   },
   "outputs": [],
   "source": [
    "preds_lstm = []\n",
    "\n",
    "for df, preds in [(public_df, lstm_public_preds), (private_df, lstm_private_preds)]:\n",
    "    for i, uid in enumerate(df.id):\n",
    "        single_pred = preds[i]\n",
    "\n",
    "        single_df = pd.DataFrame(single_pred, columns=target_cols)\n",
    "        single_df['id_seqpos'] = [f'{uid}_{x}' for x in range(single_df.shape[0])]\n",
    "\n",
    "        preds_lstm.append(single_df)\n",
    "\n",
    "preds_lstm_df = pd.concat(preds_lstm)\n",
    "preds_lstm_df.head()"
   ]
  },
  {
   "cell_type": "code",
   "execution_count": null,
   "metadata": {
    "execution": {
     "iopub.execute_input": "2022-01-05T10:46:09.511440Z",
     "iopub.status.busy": "2022-01-05T10:46:09.510335Z",
     "iopub.status.idle": "2022-01-05T10:46:09.559969Z",
     "shell.execute_reply": "2022-01-05T10:46:09.558941Z"
    },
    "papermill": {
     "duration": 0.331056,
     "end_time": "2022-01-05T10:46:09.560092",
     "exception": false,
     "start_time": "2022-01-05T10:46:09.229036",
     "status": "completed"
    },
    "tags": []
   },
   "outputs": [],
   "source": [
    "blend_preds_df = pd.DataFrame()\n",
    "blend_preds_df['id_seqpos'] = preds_gru_df['id_seqpos']\n",
    "blend_preds_df['reactivity'] = .5 * preds_gru_df['reactivity'] + .5 * preds_lstm_df['reactivity']\n",
    "blend_preds_df['deg_Mg_pH10'] = .5 * preds_gru_df['deg_Mg_pH10'] + .5 * preds_lstm_df['deg_Mg_pH10']\n",
    "blend_preds_df['deg_pH10'] = .5 * preds_gru_df['deg_pH10'] + .5 * preds_lstm_df['deg_pH10']\n",
    "blend_preds_df['deg_Mg_50C'] = .5 * preds_gru_df['deg_Mg_50C'] + .5 * preds_lstm_df['deg_Mg_50C']\n",
    "blend_preds_df['deg_50C'] = .5 * preds_gru_df['deg_50C'] + .5 * preds_lstm_df['deg_50C']"
   ]
  },
  {
   "cell_type": "code",
   "execution_count": null,
   "metadata": {
    "execution": {
     "iopub.execute_input": "2022-01-05T10:46:10.032803Z",
     "iopub.status.busy": "2022-01-05T10:46:10.032008Z",
     "iopub.status.idle": "2022-01-05T10:46:10.478671Z",
     "shell.execute_reply": "2022-01-05T10:46:10.478164Z"
    },
    "papermill": {
     "duration": 0.686264,
     "end_time": "2022-01-05T10:46:10.478785",
     "exception": false,
     "start_time": "2022-01-05T10:46:09.792521",
     "status": "completed"
    },
    "tags": []
   },
   "outputs": [],
   "source": [
    "submission = sample_sub[['id_seqpos']].merge(blend_preds_df, on=['id_seqpos'])\n",
    "\n",
    "# sanity check\n",
    "submission.head()"
   ]
  },
  {
   "cell_type": "code",
   "execution_count": null,
   "metadata": {
    "execution": {
     "iopub.execute_input": "2022-01-05T10:46:10.986849Z",
     "iopub.status.busy": "2022-01-05T10:46:10.985948Z",
     "iopub.status.idle": "2022-01-05T10:46:16.903745Z",
     "shell.execute_reply": "2022-01-05T10:46:16.904522Z"
    },
    "papermill": {
     "duration": 6.161825,
     "end_time": "2022-01-05T10:46:16.904718",
     "exception": false,
     "start_time": "2022-01-05T10:46:10.742893",
     "status": "completed"
    },
    "tags": [],
    "pycharm": {
     "name": "#%%\n"
    }
   },
   "outputs": [],
   "source": [
    "submission.to_csv('submission.csv', index=False)\n",
    "print('Submission saved')"
   ]
  }
 ],
 "metadata": {
  "kernelspec": {
   "display_name": "Python 3 (ipykernel)",
   "language": "python",
   "name": "python3"
  },
  "language_info": {
   "codemirror_mode": {
    "name": "ipython",
    "version": 3
   },
   "file_extension": ".py",
   "mimetype": "text/x-python",
   "name": "python",
   "nbconvert_exporter": "python",
   "pygments_lexer": "ipython3",
   "version": "3.9.8"
  },
  "papermill": {
   "duration": 849.579334,
   "end_time": "2022-01-05T10:46:17.876762",
   "environment_variables": {},
   "exception": null,
   "input_path": "__notebook__.ipynb",
   "output_path": "__notebook__.ipynb",
   "parameters": {},
   "start_time": "2022-01-05T10:32:08.297428",
   "version": "2.1.0"
  },
  "widgets": {
   "application/vnd.jupyter.widget-state+json": {
    "state": {},
    "version_major": 2,
    "version_minor": 0
   }
  }
 },
 "nbformat": 4,
 "nbformat_minor": 4
}