{
 "cells": [
  {
   "cell_type": "markdown",
   "id": "c2f82435",
   "metadata": {
    "papermill": {
     "duration": 0.025995,
     "end_time": "2022-01-07T19:17:21.557528",
     "exception": false,
     "start_time": "2022-01-07T19:17:21.531533",
     "status": "completed"
    },
    "pycharm": {
     "name": "#%% md\n"
    },
    "tags": []
   },
   "source": [
    "# **Stanford COVID Vaccine**\n",
    "\n",
    "OpenVaccine: COVID-19 mRNA Vaccine Degradation Prediction"
   ]
  },
  {
   "cell_type": "markdown",
   "id": "01aa13e2",
   "metadata": {
    "papermill": {
     "duration": 0.023555,
     "end_time": "2022-01-07T19:17:21.605324",
     "exception": false,
     "start_time": "2022-01-07T19:17:21.581769",
     "status": "completed"
    },
    "pycharm": {
     "name": "#%% md\n"
    },
    "tags": []
   },
   "source": [
    "**Add the necessary libraries**"
   ]
  },
  {
   "cell_type": "code",
   "execution_count": 1,
   "id": "43fe2372",
   "metadata": {
    "_cell_guid": "79c7e3d0-c299-4dcb-8224-4455121ee9b0",
    "_kg_hide-input": false,
    "_uuid": "d629ff2d2480ee46fbb7e2d37f6b5fab8052498a",
    "execution": {
     "iopub.execute_input": "2022-01-07T19:17:21.692503Z",
     "iopub.status.busy": "2022-01-07T19:17:21.691751Z",
     "iopub.status.idle": "2022-01-07T19:17:24.190059Z",
     "shell.execute_reply": "2022-01-07T19:17:24.189469Z"
    },
    "papermill": {
     "duration": 2.556791,
     "end_time": "2022-01-07T19:17:24.190219",
     "exception": false,
     "start_time": "2022-01-07T19:17:21.633428",
     "status": "completed"
    },
    "tags": []
   },
   "outputs": [],
   "source": [
    "import os\n",
    "import warnings\n",
    "\n",
    "warnings.filterwarnings('ignore')\n",
    "\n",
    "# the basics\n",
    "import pandas as pd, numpy as np, seaborn as sns\n",
    "\n",
    "# data simulation library\n",
    "from matplotlib import pyplot as plt\n",
    "from tqdm import tqdm\n",
    "\n",
    "# for model evaluation\n",
    "from sklearn.model_selection import KFold\n",
    "\n",
    "import torch\n",
    "import torch.nn as nn\n",
    "import torch.optim as optim\n",
    "from torch.utils.data import DataLoader, TensorDataset\n",
    "\n",
    "device = torch.device(\"cuda\" if torch.cuda.is_available() else \"cpu\")"
   ]
  },
  {
   "cell_type": "markdown",
   "id": "b40609a9",
   "metadata": {
    "papermill": {
     "duration": 0.02351,
     "end_time": "2022-01-07T19:17:24.238260",
     "exception": false,
     "start_time": "2022-01-07T19:17:24.214750",
     "status": "completed"
    },
    "tags": []
   },
   "source": [
    "# A. Overview\n",
    "\n",
    "mRNA vaccines have taken the lead as the fastest vaccine candidates for COVID-19, but currently, they face key potential limitations. One of the biggest challenges right now is how to design super stable messenger RNA molecules (mRNA). Conventional vaccines (like your seasonal flu shots) are packaged in disposable syringes and shipped under refrigeration around the world, but that is not currently possible for mRNA vaccines."
   ]
  },
  {
   "cell_type": "code",
   "execution_count": 2,
   "id": "38271250",
   "metadata": {
    "execution": {
     "iopub.execute_input": "2022-01-07T19:17:24.290474Z",
     "iopub.status.busy": "2022-01-07T19:17:24.289935Z",
     "iopub.status.idle": "2022-01-07T19:17:25.587346Z",
     "shell.execute_reply": "2022-01-07T19:17:25.586833Z"
    },
    "papermill": {
     "duration": 1.325121,
     "end_time": "2022-01-07T19:17:25.587478",
     "exception": false,
     "start_time": "2022-01-07T19:17:24.262357",
     "status": "completed"
    },
    "tags": []
   },
   "outputs": [],
   "source": [
    "# get comp data\n",
    "train = pd.read_json('/kaggle/input/stanford-covid-vaccine/train.json', lines=True)\n",
    "test = pd.read_json('/kaggle/input/stanford-covid-vaccine/test.json', lines=True)\n",
    "sample_sub = pd.read_csv('/kaggle/input/stanford-covid-vaccine/sample_submission.csv')"
   ]
  },
  {
   "cell_type": "markdown",
   "id": "1159ea70",
   "metadata": {
    "papermill": {
     "duration": 0.0239,
     "end_time": "2022-01-07T19:17:25.636489",
     "exception": false,
     "start_time": "2022-01-07T19:17:25.612589",
     "status": "completed"
    },
    "tags": []
   },
   "source": [
    "# B. Brief EDA\n",
    "\n",
    "**Training features are given as follows: [Detail](https://www.kaggle.com/c/stanford-covid-vaccine/data)**\n",
    "\n",
    "- **id** - An arbitrary identifier for each sample.\n",
    "- **seq_scored** - (68 in Train and Public Test, 91 in Private Test) Integer value denoting the number of positions used in scoring with predicted values. This should match the length of `reactivity`, `deg_*` and `*_error_*` columns. Note that molecules used for the Private Test will be longer than those in the Train and Public Test data, so the size of this vector will be different.\n",
    "- **seq_length** - (107 in Train and Public Test, 130 in Private Test) Integer values, denotes the length of `sequence`. Note that molecules used for the Private Test will be longer than those in the Train and Public Test data, so the size of this vector will be different.\n",
    "- **sequence** - (1x107 string in Train and Public Test, 130 in Private Test) Describes the RNA sequence, a combination of `A`, `G`, `U`, and `C` for each sample. Should be 107 characters long, and the first 68 bases should correspond to the 68 positions specified in `seq_scored` (note: indexed starting at 0).\n",
    "- **structure** - (1x107 string in Train and Public Test, 130 in Private Test) An array of `(`, `)`, and `.` characters that describe whether a base is estimated to be paired or unpaired. Paired bases are denoted by opening and closing parentheses e.g. (....) means that base 0 is paired to base 5, and bases 1-4 are unpaired.\n",
    "- **reactivity** - (1x68 vector in Train and Public Test, 1x91 in Private Test) An array of floating point numbers, should have the same length as `seq_scored`. These numbers are reactivity values for the first 68 bases as denoted in `sequence`, and used to determine the likely secondary structure of the RNA sample.\n",
    "- **deg_pH10** - (1x68 vector in Train and Public Test, 1x91 in Private Test) An array of floating point numbers, should have the same length as `seq_scored`. These numbers are reactivity values for the first 68 bases as denoted in `sequence`, and used to determine the likelihood of degradation at the base/linkage after incubating without magnesium at high pH (pH 10).\n",
    "- **deg_Mg_pH10** - (1x68 vector in Train and Public Test, 1x91 in Private Test) An array of floating point numbers, should have the same length as `seq_scored`. These numbers are reactivity values for the first 68 bases as denoted in `sequence`, and used to determine the likelihood of degradation at the base/linkage after incubating with magnesium in high pH (pH 10).\n",
    "- **deg_50C** - (1x68 vector in Train and Public Test, 1x91 in Private Test) An array of floating point numbers, should have the same length as `seq_scored`. These numbers are reactivity values for the first 68 bases as denoted in `sequence`, and used to determine the likelihood of degradation at the base/linkage after incubating without magnesium at high temperature (50 degrees Celsius).\n",
    "- **deg_Mg_50C** - (1x68 vector in Train and Public Test, 1x91 in Private Test) An array of floating point numbers, should have the same length as `seq_scored`. These numbers are reactivity values for the first 68 bases as denoted in `sequence`, and used to determine the likelihood of degradation at the base/linkage after incubating with magnesium at high temperature (50 degrees Celsius).\n",
    "- **`*_error_*`** - An array of floating point numbers, should have the same length as the corresponding `reactivity` or `deg_*` columns, calculated errors in experimental values obtained in `reactivity` and `deg_*` columns.\n",
    "- **predicted_loop_type** - (1x107 string) Describes the structural context (also referred to as 'loop type')of each character in `sequence`. Loop types assigned by bpRNA from Vienna RNAfold 2 structure. From the bpRNA_documentation: S: paired \"Stem\" M: Multiloop I: Internal loop B: Bulge H: Hairpin loop E: dangling End X: eXternal loop"
   ]
  },
  {
   "cell_type": "code",
   "execution_count": 3,
   "id": "8458634f",
   "metadata": {
    "execution": {
     "iopub.execute_input": "2022-01-07T19:17:25.689866Z",
     "iopub.status.busy": "2022-01-07T19:17:25.688348Z",
     "iopub.status.idle": "2022-01-07T19:17:25.692343Z",
     "shell.execute_reply": "2022-01-07T19:17:25.691870Z"
    },
    "papermill": {
     "duration": 0.032345,
     "end_time": "2022-01-07T19:17:25.692450",
     "exception": false,
     "start_time": "2022-01-07T19:17:25.660105",
     "status": "completed"
    },
    "tags": []
   },
   "outputs": [
    {
     "name": "stdout",
     "output_type": "stream",
     "text": [
      "Index(['index', 'id', 'sequence', 'structure', 'predicted_loop_type',\n",
      "       'signal_to_noise', 'SN_filter', 'seq_length', 'seq_scored',\n",
      "       'reactivity_error', 'deg_error_Mg_pH10', 'deg_error_pH10',\n",
      "       'deg_error_Mg_50C', 'deg_error_50C', 'reactivity', 'deg_Mg_pH10',\n",
      "       'deg_pH10', 'deg_Mg_50C', 'deg_50C'],\n",
      "      dtype='object')\n"
     ]
    }
   ],
   "source": [
    "print(train.columns)"
   ]
  },
  {
   "cell_type": "code",
   "execution_count": 4,
   "id": "f452c47d",
   "metadata": {
    "execution": {
     "iopub.execute_input": "2022-01-07T19:17:25.746237Z",
     "iopub.status.busy": "2022-01-07T19:17:25.745548Z",
     "iopub.status.idle": "2022-01-07T19:17:25.819293Z",
     "shell.execute_reply": "2022-01-07T19:17:25.818813Z"
    },
    "papermill": {
     "duration": 0.101106,
     "end_time": "2022-01-07T19:17:25.819398",
     "exception": false,
     "start_time": "2022-01-07T19:17:25.718292",
     "status": "completed"
    },
    "tags": []
   },
   "outputs": [
    {
     "name": "stdout",
     "output_type": "stream",
     "text": [
      "(2400, 19)\n",
      "No missing values\n"
     ]
    },
    {
     "data": {
      "text/html": [
       "<div>\n",
       "<style scoped>\n",
       "    .dataframe tbody tr th:only-of-type {\n",
       "        vertical-align: middle;\n",
       "    }\n",
       "\n",
       "    .dataframe tbody tr th {\n",
       "        vertical-align: top;\n",
       "    }\n",
       "\n",
       "    .dataframe thead th {\n",
       "        text-align: right;\n",
       "    }\n",
       "</style>\n",
       "<table border=\"1\" class=\"dataframe\">\n",
       "  <thead>\n",
       "    <tr style=\"text-align: right;\">\n",
       "      <th></th>\n",
       "      <th>index</th>\n",
       "      <th>id</th>\n",
       "      <th>sequence</th>\n",
       "      <th>structure</th>\n",
       "      <th>predicted_loop_type</th>\n",
       "      <th>signal_to_noise</th>\n",
       "      <th>SN_filter</th>\n",
       "      <th>seq_length</th>\n",
       "      <th>seq_scored</th>\n",
       "      <th>reactivity_error</th>\n",
       "      <th>deg_error_Mg_pH10</th>\n",
       "      <th>deg_error_pH10</th>\n",
       "      <th>deg_error_Mg_50C</th>\n",
       "      <th>deg_error_50C</th>\n",
       "      <th>reactivity</th>\n",
       "      <th>deg_Mg_pH10</th>\n",
       "      <th>deg_pH10</th>\n",
       "      <th>deg_Mg_50C</th>\n",
       "      <th>deg_50C</th>\n",
       "    </tr>\n",
       "  </thead>\n",
       "  <tbody>\n",
       "    <tr>\n",
       "      <th>0</th>\n",
       "      <td>0</td>\n",
       "      <td>id_001f94081</td>\n",
       "      <td>GGAAAAGCUCUAAUAACAGGAGACUAGGACUACGUAUUUCUAGGUA...</td>\n",
       "      <td>.....((((((.......)))).)).((.....((..((((((......</td>\n",
       "      <td>EEEEESSSSSSHHHHHHHSSSSBSSXSSIIIIISSIISSSSSSHHH...</td>\n",
       "      <td>6.894</td>\n",
       "      <td>1</td>\n",
       "      <td>107</td>\n",
       "      <td>68</td>\n",
       "      <td>[0.1359, 0.20700000000000002, 0.1633, 0.1452, ...</td>\n",
       "      <td>[0.26130000000000003, 0.38420000000000004, 0.1...</td>\n",
       "      <td>[0.2631, 0.28600000000000003, 0.0964, 0.1574, ...</td>\n",
       "      <td>[0.1501, 0.275, 0.0947, 0.18660000000000002, 0...</td>\n",
       "      <td>[0.2167, 0.34750000000000003, 0.188, 0.2124, 0...</td>\n",
       "      <td>[0.3297, 1.5693000000000001, 1.1227, 0.8686, 0...</td>\n",
       "      <td>[0.7556, 2.983, 0.2526, 1.3789, 0.637600000000...</td>\n",
       "      <td>[2.3375, 3.5060000000000002, 0.3008, 1.0108, 0...</td>\n",
       "      <td>[0.35810000000000003, 2.9683, 0.2589, 1.4552, ...</td>\n",
       "      <td>[0.6382, 3.4773, 0.9988, 1.3228, 0.78770000000...</td>\n",
       "    </tr>\n",
       "    <tr>\n",
       "      <th>1</th>\n",
       "      <td>1</td>\n",
       "      <td>id_0049f53ba</td>\n",
       "      <td>GGAAAAAGCGCGCGCGGUUAGCGCGCGCUUUUGCGCGCGCUGUACC...</td>\n",
       "      <td>.....(((((((((((((((((((((((....)))))))))).)))...</td>\n",
       "      <td>EEEEESSSSSSSSSSSSSSSSSSSSSSSHHHHSSSSSSSSSSBSSS...</td>\n",
       "      <td>0.193</td>\n",
       "      <td>0</td>\n",
       "      <td>107</td>\n",
       "      <td>68</td>\n",
       "      <td>[2.8272, 2.8272, 2.8272, 4.7343, 2.5676, 2.567...</td>\n",
       "      <td>[73705.3985, 73705.3985, 73705.3985, 73705.398...</td>\n",
       "      <td>[10.1986, 9.2418, 5.0933, 5.0933, 5.0933, 5.09...</td>\n",
       "      <td>[16.6174, 13.868, 8.1968, 8.1968, 8.1968, 8.19...</td>\n",
       "      <td>[15.4857, 7.9596, 13.3957, 5.8777, 5.8777, 5.8...</td>\n",
       "      <td>[0.0, 0.0, 0.0, 2.2965, 0.0, 0.0, 0.0, 0.0, 0....</td>\n",
       "      <td>[0.0, 0.0, 0.0, 0.0, 0.0, 0.0, 0.0, 0.0, 0.0, ...</td>\n",
       "      <td>[4.947, 4.4523, 0.0, 0.0, 0.0, 0.0, 0.0, 0.0, ...</td>\n",
       "      <td>[4.8511, 4.0426, 0.0, 0.0, 0.0, 0.0, 0.0, 0.0,...</td>\n",
       "      <td>[7.6692, 0.0, 10.9561, 0.0, 0.0, 0.0, 0.0, 0.0...</td>\n",
       "    </tr>\n",
       "    <tr>\n",
       "      <th>2</th>\n",
       "      <td>2</td>\n",
       "      <td>id_006f36f57</td>\n",
       "      <td>GGAAAGUGCUCAGAUAAGCUAAGCUCGAAUAGCAAUCGAAUAGAAU...</td>\n",
       "      <td>.....((((.((.....((((.(((.....)))..((((......)...</td>\n",
       "      <td>EEEEESSSSISSIIIIISSSSMSSSHHHHHSSSMMSSSSHHHHHHS...</td>\n",
       "      <td>8.800</td>\n",
       "      <td>1</td>\n",
       "      <td>107</td>\n",
       "      <td>68</td>\n",
       "      <td>[0.0931, 0.13290000000000002, 0.11280000000000...</td>\n",
       "      <td>[0.1365, 0.2237, 0.1812, 0.1333, 0.1148, 0.160...</td>\n",
       "      <td>[0.17020000000000002, 0.178, 0.111, 0.091, 0.0...</td>\n",
       "      <td>[0.1033, 0.1464, 0.1126, 0.09620000000000001, ...</td>\n",
       "      <td>[0.14980000000000002, 0.1761, 0.1517, 0.116700...</td>\n",
       "      <td>[0.44820000000000004, 1.4822, 1.1819, 0.743400...</td>\n",
       "      <td>[0.2504, 1.4021, 0.9804, 0.49670000000000003, ...</td>\n",
       "      <td>[2.243, 2.9361, 1.0553, 0.721, 0.6396000000000...</td>\n",
       "      <td>[0.5163, 1.6823000000000001, 1.0426, 0.7902, 0...</td>\n",
       "      <td>[0.9501000000000001, 1.7974999999999999, 1.499...</td>\n",
       "    </tr>\n",
       "    <tr>\n",
       "      <th>3</th>\n",
       "      <td>3</td>\n",
       "      <td>id_0082d463b</td>\n",
       "      <td>GGAAAAGCGCGCGCGCGCGCGCGAAAAAGCGCGCGCGCGCGCGCGC...</td>\n",
       "      <td>......((((((((((((((((......))))))))))))))))((...</td>\n",
       "      <td>EEEEEESSSSSSSSSSSSSSSSHHHHHHSSSSSSSSSSSSSSSSSS...</td>\n",
       "      <td>0.104</td>\n",
       "      <td>0</td>\n",
       "      <td>107</td>\n",
       "      <td>68</td>\n",
       "      <td>[3.5229, 6.0748, 3.0374, 3.0374, 3.0374, 3.037...</td>\n",
       "      <td>[73705.3985, 73705.3985, 73705.3985, 73705.398...</td>\n",
       "      <td>[11.8007, 12.7566, 5.7733, 5.7733, 5.7733, 5.7...</td>\n",
       "      <td>[121286.7181, 121286.7182, 121286.7181, 121286...</td>\n",
       "      <td>[15.3995, 8.1124, 7.7824, 7.7824, 7.7824, 7.78...</td>\n",
       "      <td>[0.0, 2.2399, 0.0, 0.0, 0.0, 0.0, 0.0, 0.0, 0....</td>\n",
       "      <td>[0.0, -0.5083, 0.0, 0.0, 0.0, 0.0, 0.0, 0.0, 0...</td>\n",
       "      <td>[3.4248, 6.8128, 0.0, 0.0, 0.0, 0.0, 0.0, 0.0,...</td>\n",
       "      <td>[0.0, -0.8365, 0.0, 0.0, 0.0, 0.0, 0.0, 0.0, 0...</td>\n",
       "      <td>[7.6692, -1.3223, 0.0, 0.0, 0.0, 0.0, 0.0, 0.0...</td>\n",
       "    </tr>\n",
       "    <tr>\n",
       "      <th>4</th>\n",
       "      <td>4</td>\n",
       "      <td>id_0087940f4</td>\n",
       "      <td>GGAAAAUAUAUAAUAUAUUAUAUAAAUAUAUUAUAGAAGUAUAAUA...</td>\n",
       "      <td>.....(((((((.((((((((((((.(((((((((....)))))))...</td>\n",
       "      <td>EEEEESSSSSSSBSSSSSSSSSSSSBSSSSSSSSSHHHHSSSSSSS...</td>\n",
       "      <td>0.423</td>\n",
       "      <td>0</td>\n",
       "      <td>107</td>\n",
       "      <td>68</td>\n",
       "      <td>[1.665, 2.1728, 2.0041, 1.2405, 0.620200000000...</td>\n",
       "      <td>[4.2139, 3.9637000000000002, 3.2467, 2.4716, 1...</td>\n",
       "      <td>[3.0942, 3.015, 2.1212, 2.0552, 0.881500000000...</td>\n",
       "      <td>[2.6717, 2.4818, 1.9919, 2.5484999999999998, 1...</td>\n",
       "      <td>[1.3285, 3.6173, 1.3057, 1.3021, 1.1507, 1.150...</td>\n",
       "      <td>[0.8267, 2.6577, 2.8481, 0.40090000000000003, ...</td>\n",
       "      <td>[2.1058, 3.138, 2.5437000000000003, 1.0932, 0....</td>\n",
       "      <td>[4.7366, 4.6243, 1.2068, 1.1538, 0.0, 0.0, 0.7...</td>\n",
       "      <td>[2.2052, 1.7947000000000002, 0.7457, 3.1233, 0...</td>\n",
       "      <td>[0.0, 5.1198, -0.3551, -0.3518, 0.0, 0.0, 0.0,...</td>\n",
       "    </tr>\n",
       "  </tbody>\n",
       "</table>\n",
       "</div>"
      ],
      "text/plain": [
       "   index            id                                           sequence  \\\n",
       "0      0  id_001f94081  GGAAAAGCUCUAAUAACAGGAGACUAGGACUACGUAUUUCUAGGUA...   \n",
       "1      1  id_0049f53ba  GGAAAAAGCGCGCGCGGUUAGCGCGCGCUUUUGCGCGCGCUGUACC...   \n",
       "2      2  id_006f36f57  GGAAAGUGCUCAGAUAAGCUAAGCUCGAAUAGCAAUCGAAUAGAAU...   \n",
       "3      3  id_0082d463b  GGAAAAGCGCGCGCGCGCGCGCGAAAAAGCGCGCGCGCGCGCGCGC...   \n",
       "4      4  id_0087940f4  GGAAAAUAUAUAAUAUAUUAUAUAAAUAUAUUAUAGAAGUAUAAUA...   \n",
       "\n",
       "                                           structure  \\\n",
       "0  .....((((((.......)))).)).((.....((..((((((......   \n",
       "1  .....(((((((((((((((((((((((....)))))))))).)))...   \n",
       "2  .....((((.((.....((((.(((.....)))..((((......)...   \n",
       "3  ......((((((((((((((((......))))))))))))))))((...   \n",
       "4  .....(((((((.((((((((((((.(((((((((....)))))))...   \n",
       "\n",
       "                                 predicted_loop_type  signal_to_noise  \\\n",
       "0  EEEEESSSSSSHHHHHHHSSSSBSSXSSIIIIISSIISSSSSSHHH...            6.894   \n",
       "1  EEEEESSSSSSSSSSSSSSSSSSSSSSSHHHHSSSSSSSSSSBSSS...            0.193   \n",
       "2  EEEEESSSSISSIIIIISSSSMSSSHHHHHSSSMMSSSSHHHHHHS...            8.800   \n",
       "3  EEEEEESSSSSSSSSSSSSSSSHHHHHHSSSSSSSSSSSSSSSSSS...            0.104   \n",
       "4  EEEEESSSSSSSBSSSSSSSSSSSSBSSSSSSSSSHHHHSSSSSSS...            0.423   \n",
       "\n",
       "   SN_filter  seq_length  seq_scored  \\\n",
       "0          1         107          68   \n",
       "1          0         107          68   \n",
       "2          1         107          68   \n",
       "3          0         107          68   \n",
       "4          0         107          68   \n",
       "\n",
       "                                    reactivity_error  \\\n",
       "0  [0.1359, 0.20700000000000002, 0.1633, 0.1452, ...   \n",
       "1  [2.8272, 2.8272, 2.8272, 4.7343, 2.5676, 2.567...   \n",
       "2  [0.0931, 0.13290000000000002, 0.11280000000000...   \n",
       "3  [3.5229, 6.0748, 3.0374, 3.0374, 3.0374, 3.037...   \n",
       "4  [1.665, 2.1728, 2.0041, 1.2405, 0.620200000000...   \n",
       "\n",
       "                                   deg_error_Mg_pH10  \\\n",
       "0  [0.26130000000000003, 0.38420000000000004, 0.1...   \n",
       "1  [73705.3985, 73705.3985, 73705.3985, 73705.398...   \n",
       "2  [0.1365, 0.2237, 0.1812, 0.1333, 0.1148, 0.160...   \n",
       "3  [73705.3985, 73705.3985, 73705.3985, 73705.398...   \n",
       "4  [4.2139, 3.9637000000000002, 3.2467, 2.4716, 1...   \n",
       "\n",
       "                                      deg_error_pH10  \\\n",
       "0  [0.2631, 0.28600000000000003, 0.0964, 0.1574, ...   \n",
       "1  [10.1986, 9.2418, 5.0933, 5.0933, 5.0933, 5.09...   \n",
       "2  [0.17020000000000002, 0.178, 0.111, 0.091, 0.0...   \n",
       "3  [11.8007, 12.7566, 5.7733, 5.7733, 5.7733, 5.7...   \n",
       "4  [3.0942, 3.015, 2.1212, 2.0552, 0.881500000000...   \n",
       "\n",
       "                                    deg_error_Mg_50C  \\\n",
       "0  [0.1501, 0.275, 0.0947, 0.18660000000000002, 0...   \n",
       "1  [16.6174, 13.868, 8.1968, 8.1968, 8.1968, 8.19...   \n",
       "2  [0.1033, 0.1464, 0.1126, 0.09620000000000001, ...   \n",
       "3  [121286.7181, 121286.7182, 121286.7181, 121286...   \n",
       "4  [2.6717, 2.4818, 1.9919, 2.5484999999999998, 1...   \n",
       "\n",
       "                                       deg_error_50C  \\\n",
       "0  [0.2167, 0.34750000000000003, 0.188, 0.2124, 0...   \n",
       "1  [15.4857, 7.9596, 13.3957, 5.8777, 5.8777, 5.8...   \n",
       "2  [0.14980000000000002, 0.1761, 0.1517, 0.116700...   \n",
       "3  [15.3995, 8.1124, 7.7824, 7.7824, 7.7824, 7.78...   \n",
       "4  [1.3285, 3.6173, 1.3057, 1.3021, 1.1507, 1.150...   \n",
       "\n",
       "                                          reactivity  \\\n",
       "0  [0.3297, 1.5693000000000001, 1.1227, 0.8686, 0...   \n",
       "1  [0.0, 0.0, 0.0, 2.2965, 0.0, 0.0, 0.0, 0.0, 0....   \n",
       "2  [0.44820000000000004, 1.4822, 1.1819, 0.743400...   \n",
       "3  [0.0, 2.2399, 0.0, 0.0, 0.0, 0.0, 0.0, 0.0, 0....   \n",
       "4  [0.8267, 2.6577, 2.8481, 0.40090000000000003, ...   \n",
       "\n",
       "                                         deg_Mg_pH10  \\\n",
       "0  [0.7556, 2.983, 0.2526, 1.3789, 0.637600000000...   \n",
       "1  [0.0, 0.0, 0.0, 0.0, 0.0, 0.0, 0.0, 0.0, 0.0, ...   \n",
       "2  [0.2504, 1.4021, 0.9804, 0.49670000000000003, ...   \n",
       "3  [0.0, -0.5083, 0.0, 0.0, 0.0, 0.0, 0.0, 0.0, 0...   \n",
       "4  [2.1058, 3.138, 2.5437000000000003, 1.0932, 0....   \n",
       "\n",
       "                                            deg_pH10  \\\n",
       "0  [2.3375, 3.5060000000000002, 0.3008, 1.0108, 0...   \n",
       "1  [4.947, 4.4523, 0.0, 0.0, 0.0, 0.0, 0.0, 0.0, ...   \n",
       "2  [2.243, 2.9361, 1.0553, 0.721, 0.6396000000000...   \n",
       "3  [3.4248, 6.8128, 0.0, 0.0, 0.0, 0.0, 0.0, 0.0,...   \n",
       "4  [4.7366, 4.6243, 1.2068, 1.1538, 0.0, 0.0, 0.7...   \n",
       "\n",
       "                                          deg_Mg_50C  \\\n",
       "0  [0.35810000000000003, 2.9683, 0.2589, 1.4552, ...   \n",
       "1  [4.8511, 4.0426, 0.0, 0.0, 0.0, 0.0, 0.0, 0.0,...   \n",
       "2  [0.5163, 1.6823000000000001, 1.0426, 0.7902, 0...   \n",
       "3  [0.0, -0.8365, 0.0, 0.0, 0.0, 0.0, 0.0, 0.0, 0...   \n",
       "4  [2.2052, 1.7947000000000002, 0.7457, 3.1233, 0...   \n",
       "\n",
       "                                             deg_50C  \n",
       "0  [0.6382, 3.4773, 0.9988, 1.3228, 0.78770000000...  \n",
       "1  [7.6692, 0.0, 10.9561, 0.0, 0.0, 0.0, 0.0, 0.0...  \n",
       "2  [0.9501000000000001, 1.7974999999999999, 1.499...  \n",
       "3  [7.6692, -1.3223, 0.0, 0.0, 0.0, 0.0, 0.0, 0.0...  \n",
       "4  [0.0, 5.1198, -0.3551, -0.3518, 0.0, 0.0, 0.0,...  "
      ]
     },
     "execution_count": 4,
     "metadata": {},
     "output_type": "execute_result"
    }
   ],
   "source": [
    "# sneak peak\n",
    "print(train.shape)\n",
    "if ~ train.isnull().values.any(): print('No missing values')\n",
    "train.head()"
   ]
  },
  {
   "cell_type": "code",
   "execution_count": 5,
   "id": "34cea97c",
   "metadata": {
    "execution": {
     "iopub.execute_input": "2022-01-07T19:17:25.877072Z",
     "iopub.status.busy": "2022-01-07T19:17:25.876530Z",
     "iopub.status.idle": "2022-01-07T19:17:25.888519Z",
     "shell.execute_reply": "2022-01-07T19:17:25.888874Z"
    },
    "papermill": {
     "duration": 0.043421,
     "end_time": "2022-01-07T19:17:25.889029",
     "exception": false,
     "start_time": "2022-01-07T19:17:25.845608",
     "status": "completed"
    },
    "tags": []
   },
   "outputs": [
    {
     "name": "stdout",
     "output_type": "stream",
     "text": [
      "(3634, 7)\n",
      "No missing values\n"
     ]
    },
    {
     "data": {
      "text/html": [
       "<div>\n",
       "<style scoped>\n",
       "    .dataframe tbody tr th:only-of-type {\n",
       "        vertical-align: middle;\n",
       "    }\n",
       "\n",
       "    .dataframe tbody tr th {\n",
       "        vertical-align: top;\n",
       "    }\n",
       "\n",
       "    .dataframe thead th {\n",
       "        text-align: right;\n",
       "    }\n",
       "</style>\n",
       "<table border=\"1\" class=\"dataframe\">\n",
       "  <thead>\n",
       "    <tr style=\"text-align: right;\">\n",
       "      <th></th>\n",
       "      <th>index</th>\n",
       "      <th>id</th>\n",
       "      <th>sequence</th>\n",
       "      <th>structure</th>\n",
       "      <th>predicted_loop_type</th>\n",
       "      <th>seq_length</th>\n",
       "      <th>seq_scored</th>\n",
       "    </tr>\n",
       "  </thead>\n",
       "  <tbody>\n",
       "    <tr>\n",
       "      <th>0</th>\n",
       "      <td>0</td>\n",
       "      <td>id_00073f8be</td>\n",
       "      <td>GGAAAAGUACGACUUGAGUACGGAAAACGUACCAACUCGAUUAAAA...</td>\n",
       "      <td>......((((((((((.(((((.....))))))))((((((((......</td>\n",
       "      <td>EEEEEESSSSSSSSSSBSSSSSHHHHHSSSSSSSSSSSSSSSSHHH...</td>\n",
       "      <td>107</td>\n",
       "      <td>68</td>\n",
       "    </tr>\n",
       "    <tr>\n",
       "      <th>1</th>\n",
       "      <td>1</td>\n",
       "      <td>id_000ae4237</td>\n",
       "      <td>GGAAACGGGUUCCGCGGAUUGCUGCUAAUAAGAGUAAUCUCUAAAU...</td>\n",
       "      <td>.....((((..((((((...(((((.....((((....)))).......</td>\n",
       "      <td>EEEEESSSSIISSSSSSIIISSSSSIIIIISSSSHHHHSSSSIIII...</td>\n",
       "      <td>130</td>\n",
       "      <td>91</td>\n",
       "    </tr>\n",
       "    <tr>\n",
       "      <th>2</th>\n",
       "      <td>2</td>\n",
       "      <td>id_00131c573</td>\n",
       "      <td>GGAAAACAAAACGGCCUGGAAGACGAAGGAAUUCGGCGCGAAGGCC...</td>\n",
       "      <td>...........((.(((.(.(..((..((..((((...))))..))...</td>\n",
       "      <td>EEEEEEEEEEESSISSSISISIISSIISSIISSSSHHHSSSSIISS...</td>\n",
       "      <td>107</td>\n",
       "      <td>68</td>\n",
       "    </tr>\n",
       "    <tr>\n",
       "      <th>3</th>\n",
       "      <td>3</td>\n",
       "      <td>id_00181fd34</td>\n",
       "      <td>GGAAAGGAUCUCUAUCGAAGGAUAGAGAUCGCUCGCGACGGCACGA...</td>\n",
       "      <td>......((((((((((....))))))))))((((((..((.(((.....</td>\n",
       "      <td>EEEEEESSSSSSSSSSHHHHSSSSSSSSSSSSSSSSIISSISSSHH...</td>\n",
       "      <td>107</td>\n",
       "      <td>68</td>\n",
       "    </tr>\n",
       "    <tr>\n",
       "      <th>4</th>\n",
       "      <td>4</td>\n",
       "      <td>id_0020473f7</td>\n",
       "      <td>GGAAACCCGCCCGCGCCCGCCCGCGCUGCUGCCGUGCCUCCUCUCC...</td>\n",
       "      <td>.....(((((((((((((((((((((((((((((((((((((((((...</td>\n",
       "      <td>EEEEESSSSSSSSSSSSSSSSSSSSSSSSSSSSSSSSSSSSSSSSS...</td>\n",
       "      <td>130</td>\n",
       "      <td>91</td>\n",
       "    </tr>\n",
       "  </tbody>\n",
       "</table>\n",
       "</div>"
      ],
      "text/plain": [
       "   index            id                                           sequence  \\\n",
       "0      0  id_00073f8be  GGAAAAGUACGACUUGAGUACGGAAAACGUACCAACUCGAUUAAAA...   \n",
       "1      1  id_000ae4237  GGAAACGGGUUCCGCGGAUUGCUGCUAAUAAGAGUAAUCUCUAAAU...   \n",
       "2      2  id_00131c573  GGAAAACAAAACGGCCUGGAAGACGAAGGAAUUCGGCGCGAAGGCC...   \n",
       "3      3  id_00181fd34  GGAAAGGAUCUCUAUCGAAGGAUAGAGAUCGCUCGCGACGGCACGA...   \n",
       "4      4  id_0020473f7  GGAAACCCGCCCGCGCCCGCCCGCGCUGCUGCCGUGCCUCCUCUCC...   \n",
       "\n",
       "                                           structure  \\\n",
       "0  ......((((((((((.(((((.....))))))))((((((((......   \n",
       "1  .....((((..((((((...(((((.....((((....)))).......   \n",
       "2  ...........((.(((.(.(..((..((..((((...))))..))...   \n",
       "3  ......((((((((((....))))))))))((((((..((.(((.....   \n",
       "4  .....(((((((((((((((((((((((((((((((((((((((((...   \n",
       "\n",
       "                                 predicted_loop_type  seq_length  seq_scored  \n",
       "0  EEEEEESSSSSSSSSSBSSSSSHHHHHSSSSSSSSSSSSSSSSHHH...         107          68  \n",
       "1  EEEEESSSSIISSSSSSIIISSSSSIIIIISSSSHHHHSSSSIIII...         130          91  \n",
       "2  EEEEEEEEEEESSISSSISISIISSIISSIISSSSHHHSSSSIISS...         107          68  \n",
       "3  EEEEEESSSSSSSSSSHHHHSSSSSSSSSSSSSSSSIISSISSSHH...         107          68  \n",
       "4  EEEEESSSSSSSSSSSSSSSSSSSSSSSSSSSSSSSSSSSSSSSSS...         130          91  "
      ]
     },
     "execution_count": 5,
     "metadata": {},
     "output_type": "execute_result"
    }
   ],
   "source": [
    "# sneak peak\n",
    "print(test.shape)\n",
    "if ~ test.isnull().values.any(): print('No missing values')\n",
    "test.head()"
   ]
  },
  {
   "cell_type": "code",
   "execution_count": 6,
   "id": "f3091ebb",
   "metadata": {
    "execution": {
     "iopub.execute_input": "2022-01-07T19:17:25.944611Z",
     "iopub.status.busy": "2022-01-07T19:17:25.943809Z",
     "iopub.status.idle": "2022-01-07T19:17:26.002932Z",
     "shell.execute_reply": "2022-01-07T19:17:26.003420Z"
    },
    "papermill": {
     "duration": 0.089105,
     "end_time": "2022-01-07T19:17:26.003546",
     "exception": false,
     "start_time": "2022-01-07T19:17:25.914441",
     "status": "completed"
    },
    "tags": []
   },
   "outputs": [
    {
     "name": "stdout",
     "output_type": "stream",
     "text": [
      "(457953, 6)\n",
      "No missing values\n"
     ]
    },
    {
     "data": {
      "text/html": [
       "<div>\n",
       "<style scoped>\n",
       "    .dataframe tbody tr th:only-of-type {\n",
       "        vertical-align: middle;\n",
       "    }\n",
       "\n",
       "    .dataframe tbody tr th {\n",
       "        vertical-align: top;\n",
       "    }\n",
       "\n",
       "    .dataframe thead th {\n",
       "        text-align: right;\n",
       "    }\n",
       "</style>\n",
       "<table border=\"1\" class=\"dataframe\">\n",
       "  <thead>\n",
       "    <tr style=\"text-align: right;\">\n",
       "      <th></th>\n",
       "      <th>id_seqpos</th>\n",
       "      <th>reactivity</th>\n",
       "      <th>deg_Mg_pH10</th>\n",
       "      <th>deg_pH10</th>\n",
       "      <th>deg_Mg_50C</th>\n",
       "      <th>deg_50C</th>\n",
       "    </tr>\n",
       "  </thead>\n",
       "  <tbody>\n",
       "    <tr>\n",
       "      <th>0</th>\n",
       "      <td>id_00073f8be_0</td>\n",
       "      <td>0.0</td>\n",
       "      <td>0.0</td>\n",
       "      <td>0.0</td>\n",
       "      <td>0.0</td>\n",
       "      <td>0.0</td>\n",
       "    </tr>\n",
       "    <tr>\n",
       "      <th>1</th>\n",
       "      <td>id_00073f8be_1</td>\n",
       "      <td>0.0</td>\n",
       "      <td>0.0</td>\n",
       "      <td>0.0</td>\n",
       "      <td>0.0</td>\n",
       "      <td>0.0</td>\n",
       "    </tr>\n",
       "    <tr>\n",
       "      <th>2</th>\n",
       "      <td>id_00073f8be_2</td>\n",
       "      <td>0.0</td>\n",
       "      <td>0.0</td>\n",
       "      <td>0.0</td>\n",
       "      <td>0.0</td>\n",
       "      <td>0.0</td>\n",
       "    </tr>\n",
       "    <tr>\n",
       "      <th>3</th>\n",
       "      <td>id_00073f8be_3</td>\n",
       "      <td>0.0</td>\n",
       "      <td>0.0</td>\n",
       "      <td>0.0</td>\n",
       "      <td>0.0</td>\n",
       "      <td>0.0</td>\n",
       "    </tr>\n",
       "    <tr>\n",
       "      <th>4</th>\n",
       "      <td>id_00073f8be_4</td>\n",
       "      <td>0.0</td>\n",
       "      <td>0.0</td>\n",
       "      <td>0.0</td>\n",
       "      <td>0.0</td>\n",
       "      <td>0.0</td>\n",
       "    </tr>\n",
       "  </tbody>\n",
       "</table>\n",
       "</div>"
      ],
      "text/plain": [
       "        id_seqpos  reactivity  deg_Mg_pH10  deg_pH10  deg_Mg_50C  deg_50C\n",
       "0  id_00073f8be_0         0.0          0.0       0.0         0.0      0.0\n",
       "1  id_00073f8be_1         0.0          0.0       0.0         0.0      0.0\n",
       "2  id_00073f8be_2         0.0          0.0       0.0         0.0      0.0\n",
       "3  id_00073f8be_3         0.0          0.0       0.0         0.0      0.0\n",
       "4  id_00073f8be_4         0.0          0.0       0.0         0.0      0.0"
      ]
     },
     "execution_count": 6,
     "metadata": {},
     "output_type": "execute_result"
    }
   ],
   "source": [
    "# sneak peak\n",
    "print(sample_sub.shape)\n",
    "if ~ sample_sub.isnull().values.any(): print('No missing values')\n",
    "sample_sub.head()"
   ]
  },
  {
   "cell_type": "markdown",
   "id": "8582d58b",
   "metadata": {
    "papermill": {
     "duration": 0.027108,
     "end_time": "2022-01-07T19:17:26.057847",
     "exception": false,
     "start_time": "2022-01-07T19:17:26.030739",
     "status": "completed"
    },
    "tags": []
   },
   "source": [
    "Explore `signal_to_noise` and `SN_filter` distributions. As per the data tab of this competition the samples in `test.json` have been filtered in the following way: [Detail](https://www.kaggle.com/c/stanford-covid-vaccine/data)\n",
    "\n",
    "1. Minimum value across all 5 conditions must be greater than -0.5.\n",
    "2. Mean signal/noise across all 5 conditions must be greater than 1.0. [Signal/noise is defined as mean( measurement value over 68 nts )/mean( statistical error in measurement value over 68 nts)]\n",
    "3. To help ensure sequence diversity, the resulting sequences were clustered into clusters with less than 50% sequence similarity, and the 629 test set sequences were chosen from clusters with 3 or fewer members. That is, any sequence in the test set should be sequence similar to at most 2 other sequences.\n",
    "\n",
    "But these filters have not been applied to the samples in `train.json` or the private test set of this competition, so we will likely see public leaderboard improvement by filtering `train.json` the same way that `test.json` was filtered."
   ]
  },
  {
   "cell_type": "code",
   "execution_count": 7,
   "id": "d5b65fb2",
   "metadata": {
    "execution": {
     "iopub.execute_input": "2022-01-07T19:17:26.120589Z",
     "iopub.status.busy": "2022-01-07T19:17:26.119763Z",
     "iopub.status.idle": "2022-01-07T19:17:26.458966Z",
     "shell.execute_reply": "2022-01-07T19:17:26.458553Z"
    },
    "papermill": {
     "duration": 0.374669,
     "end_time": "2022-01-07T19:17:26.459109",
     "exception": false,
     "start_time": "2022-01-07T19:17:26.084440",
     "status": "completed"
    },
    "tags": []
   },
   "outputs": [
    {
     "data": {
      "image/png": "[encoded data removed]",
      "text/plain": [
       "<Figure size 1080x360 with 2 Axes>"
      ]
     },
     "metadata": {
      "needs_background": "light"
     },
     "output_type": "display_data"
    }
   ],
   "source": [
    "fig, ax = plt.subplots(1, 2, figsize=(15, 5))\n",
    "sns.kdeplot(train['signal_to_noise'], shade=True, ax=ax[0])\n",
    "sns.countplot(train['SN_filter'], ax=ax[1])\n",
    "\n",
    "ax[0].set_title('Signal/Noise Distribution')\n",
    "ax[1].set_title('Signal/Noise Filter Distribution');"
   ]
  },
  {
   "cell_type": "code",
   "execution_count": 8,
   "id": "f1c45d59",
   "metadata": {
    "execution": {
     "iopub.execute_input": "2022-01-07T19:17:26.520712Z",
     "iopub.status.busy": "2022-01-07T19:17:26.520214Z",
     "iopub.status.idle": "2022-01-07T19:17:26.526550Z",
     "shell.execute_reply": "2022-01-07T19:17:26.525747Z"
    },
    "papermill": {
     "duration": 0.039895,
     "end_time": "2022-01-07T19:17:26.526714",
     "exception": false,
     "start_time": "2022-01-07T19:17:26.486819",
     "status": "completed"
    },
    "tags": []
   },
   "outputs": [
    {
     "name": "stdout",
     "output_type": "stream",
     "text": [
      "Samples with signal_to_noise greater than 1: 2096\n",
      "Samples with SN_filter = 1: 1589\n"
     ]
    }
   ],
   "source": [
    "print(f\"Samples with signal_to_noise greater than 1: {len(train.loc[(train['signal_to_noise'] > 1)])}\")\n",
    "print(f\"Samples with SN_filter = 1: {len(train.loc[(train['SN_filter'] == 1)])}\")"
   ]
  },
  {
   "cell_type": "markdown",
   "id": "82e3c792",
   "metadata": {
    "papermill": {
     "duration": 0.027567,
     "end_time": "2022-01-07T19:17:26.582615",
     "exception": false,
     "start_time": "2022-01-07T19:17:26.555048",
     "status": "completed"
    },
    "tags": []
   },
   "source": [
    "# C. Processing"
   ]
  },
  {
   "cell_type": "code",
   "execution_count": 9,
   "id": "6c74af8e",
   "metadata": {
    "execution": {
     "iopub.execute_input": "2022-01-07T19:17:26.642846Z",
     "iopub.status.busy": "2022-01-07T19:17:26.642341Z",
     "iopub.status.idle": "2022-01-07T19:17:26.645999Z",
     "shell.execute_reply": "2022-01-07T19:17:26.645553Z"
    },
    "papermill": {
     "duration": 0.034675,
     "end_time": "2022-01-07T19:17:26.646110",
     "exception": false,
     "start_time": "2022-01-07T19:17:26.611435",
     "status": "completed"
    },
    "tags": []
   },
   "outputs": [],
   "source": [
    "# target columns\n",
    "target_cols = ['reactivity', 'deg_Mg_pH10', 'deg_pH10', 'deg_Mg_50C', 'deg_50C']"
   ]
  },
  {
   "cell_type": "markdown",
   "id": "f435d330",
   "metadata": {
    "papermill": {
     "duration": 0.02751,
     "end_time": "2022-01-07T19:17:26.701214",
     "exception": false,
     "start_time": "2022-01-07T19:17:26.673704",
     "status": "completed"
    },
    "tags": []
   },
   "source": [
    "tokenize the RNA sequence so it can be feed in my model:"
   ]
  },
  {
   "cell_type": "code",
   "execution_count": 10,
   "id": "0c3103e4",
   "metadata": {
    "execution": {
     "iopub.execute_input": "2022-01-07T19:17:26.760484Z",
     "iopub.status.busy": "2022-01-07T19:17:26.758791Z",
     "iopub.status.idle": "2022-01-07T19:17:26.762677Z",
     "shell.execute_reply": "2022-01-07T19:17:26.762286Z"
    },
    "papermill": {
     "duration": 0.033929,
     "end_time": "2022-01-07T19:17:26.762778",
     "exception": false,
     "start_time": "2022-01-07T19:17:26.728849",
     "status": "completed"
    },
    "tags": []
   },
   "outputs": [],
   "source": [
    "token2int = {x: i for i, x in enumerate('().ACGUBEHIMSX')}"
   ]
  },
  {
   "cell_type": "code",
   "execution_count": 11,
   "id": "8f1b0d6d",
   "metadata": {
    "execution": {
     "iopub.execute_input": "2022-01-07T19:17:26.825502Z",
     "iopub.status.busy": "2022-01-07T19:17:26.824027Z",
     "iopub.status.idle": "2022-01-07T19:17:26.826139Z",
     "shell.execute_reply": "2022-01-07T19:17:26.826569Z"
    },
    "papermill": {
     "duration": 0.036055,
     "end_time": "2022-01-07T19:17:26.826687",
     "exception": false,
     "start_time": "2022-01-07T19:17:26.790632",
     "status": "completed"
    },
    "tags": []
   },
   "outputs": [],
   "source": [
    "def preprocess_inputs(df, cols=None):\n",
    "    if cols is None:\n",
    "        cols = ['sequence', 'structure', 'predicted_loop_type']\n",
    "    return np.transpose(\n",
    "        np.array(\n",
    "            df[cols]\n",
    "                .applymap(lambda seq: [token2int[x] for x in seq])\n",
    "                .values\n",
    "                .tolist()\n",
    "        ), (0, 2, 1)\n",
    "    )"
   ]
  },
  {
   "cell_type": "code",
   "execution_count": 12,
   "id": "637c4bce",
   "metadata": {
    "execution": {
     "iopub.execute_input": "2022-01-07T19:17:26.905750Z",
     "iopub.status.busy": "2022-01-07T19:17:26.887605Z",
     "iopub.status.idle": "2022-01-07T19:17:29.842852Z",
     "shell.execute_reply": "2022-01-07T19:17:29.843487Z"
    },
    "papermill": {
     "duration": 2.988641,
     "end_time": "2022-01-07T19:17:29.843683",
     "exception": false,
     "start_time": "2022-01-07T19:17:26.855042",
     "status": "completed"
    },
    "tags": []
   },
   "outputs": [
    {
     "name": "stdout",
     "output_type": "stream",
     "text": [
      "input shape:  torch.Size([1589, 107, 3])\n",
      "output shape:  torch.Size([1589, 68, 5])\n"
     ]
    }
   ],
   "source": [
    "train_filtered = train.loc[train.SN_filter == 1]\n",
    "train_inputs = torch.tensor(preprocess_inputs(train_filtered)).to(device)\n",
    "print(\"input shape: \", train_inputs.shape)\n",
    "train_labels = torch.tensor(\n",
    "    np.array(train_filtered[target_cols].values.tolist()).transpose(0, 2, 1)\n",
    ").float().to(device)\n",
    "print(\"output shape: \", train_labels.shape)"
   ]
  },
  {
   "cell_type": "markdown",
   "id": "6dd0e290",
   "metadata": {
    "papermill": {
     "duration": 0.027855,
     "end_time": "2022-01-07T19:17:29.901058",
     "exception": false,
     "start_time": "2022-01-07T19:17:29.873203",
     "status": "completed"
    },
    "tags": []
   },
   "source": [
    "# D. Model\n",
    "\n",
    "Note that for submission, the output must be the same length as the input, which is 107 for `train.json` and `test.json` and 130 for the private test set. However, this is not true for training, so training prediction sequences only need to be 68 long.\n",
    "\n",
    "So actually build 3 different models: one for training, one for predicting public test, and one for predicting private test set, each with different sequence lengths and prediction lengths. Actually, we only need to train one model, save its weights, and load these weights into the other models.\n",
    "\n",
    "The last thing to set is the size of the embedding layer. Use 100 for now as a starting point:"
   ]
  },
  {
   "cell_type": "code",
   "execution_count": 13,
   "id": "e29d5a2e",
   "metadata": {
    "collapsed": false,
    "execution": {
     "iopub.execute_input": "2022-01-07T19:17:29.961100Z",
     "iopub.status.busy": "2022-01-07T19:17:29.960311Z",
     "iopub.status.idle": "2022-01-07T19:17:29.963531Z",
     "shell.execute_reply": "2022-01-07T19:17:29.963084Z"
    },
    "jupyter": {
     "outputs_hidden": false
    },
    "papermill": {
     "duration": 0.03481,
     "end_time": "2022-01-07T19:17:29.963649",
     "exception": false,
     "start_time": "2022-01-07T19:17:29.928839",
     "status": "completed"
    },
    "pycharm": {
     "name": "#%%\n"
    },
    "tags": []
   },
   "outputs": [
    {
     "data": {
      "text/plain": [
       "14"
      ]
     },
     "execution_count": 13,
     "metadata": {},
     "output_type": "execute_result"
    }
   ],
   "source": [
    "len(token2int)"
   ]
  },
  {
   "cell_type": "code",
   "execution_count": 14,
   "id": "87770934",
   "metadata": {
    "execution": {
     "iopub.execute_input": "2022-01-07T19:17:30.033341Z",
     "iopub.status.busy": "2022-01-07T19:17:30.028754Z",
     "iopub.status.idle": "2022-01-07T19:17:30.037606Z",
     "shell.execute_reply": "2022-01-07T19:17:30.037215Z"
    },
    "papermill": {
     "duration": 0.045989,
     "end_time": "2022-01-07T19:17:30.037708",
     "exception": false,
     "start_time": "2022-01-07T19:17:29.991719",
     "status": "completed"
    },
    "tags": []
   },
   "outputs": [],
   "source": [
    "class GRU_model(nn.Module):\n",
    "    def __init__(\n",
    "            self, seq_len=107, pred_len=68, dropout=0.5, embed_dim=100, hidden_dim=128, hidden_layers=3\n",
    "    ):\n",
    "        super(GRU_model, self).__init__()\n",
    "        self.pred_len = pred_len\n",
    "\n",
    "        self.embeding = nn.Embedding(num_embeddings=len(token2int), embedding_dim=embed_dim)\n",
    "        self.gru = nn.GRU(\n",
    "            input_size=embed_dim * 3,\n",
    "            hidden_size=hidden_dim,\n",
    "            num_layers=hidden_layers,\n",
    "            dropout=dropout,\n",
    "            bidirectional=True,\n",
    "            batch_first=True,\n",
    "        )\n",
    "        self.linear = nn.Linear(hidden_dim * 2, 5)\n",
    "\n",
    "    def forward(self, seqs):\n",
    "        embed = self.embeding(seqs)\n",
    "        reshaped = torch.reshape(embed, (-1, embed.shape[1], embed.shape[2] * embed.shape[3]))\n",
    "        output, hidden = self.gru(reshaped)\n",
    "        truncated = output[:, : self.pred_len, :]\n",
    "        out = self.linear(truncated)\n",
    "        return out\n",
    "\n",
    "\n",
    "class LSTM_model(nn.Module):\n",
    "    def __init__(\n",
    "            self, seq_len=107, pred_len=68, dropout=0.5, embed_dim=100, hidden_dim=128, hidden_layers=3\n",
    "    ):\n",
    "        super(LSTM_model, self).__init__()\n",
    "        self.pred_len = pred_len\n",
    "\n",
    "        self.embeding = nn.Embedding(num_embeddings=len(token2int), embedding_dim=embed_dim)\n",
    "        self.gru = nn.LSTM(\n",
    "            input_size=embed_dim * 3,\n",
    "            hidden_size=hidden_dim,\n",
    "            num_layers=hidden_layers,\n",
    "            dropout=dropout,\n",
    "            bidirectional=True,\n",
    "            batch_first=True,\n",
    "        )\n",
    "        self.linear = nn.Linear(hidden_dim * 2, 5)\n",
    "\n",
    "    def forward(self, seqs):\n",
    "        embed = self.embeding(seqs)\n",
    "        reshaped = torch.reshape(embed, (-1, embed.shape[1], embed.shape[2] * embed.shape[3]))\n",
    "        output, hidden = self.gru(reshaped)\n",
    "        truncated = output[:, : self.pred_len, :]\n",
    "        out = self.linear(truncated)\n",
    "        return out\n",
    "\n",
    "\n",
    "mse_loss = nn.MSELoss()\n",
    "\n",
    "\n",
    "def compute_loss(batch_X, batch_Y, model, optimizer=None, is_train=True):\n",
    "    model.train(is_train)\n",
    "\n",
    "    pred_Y = model(batch_X)\n",
    "\n",
    "    loss = mse_loss(pred_Y, batch_Y)\n",
    "\n",
    "    if is_train:\n",
    "        optimizer.zero_grad()\n",
    "        loss.backward()\n",
    "        optimizer.step()\n",
    "\n",
    "    return loss.item()"
   ]
  },
  {
   "cell_type": "markdown",
   "id": "0d4f2d31",
   "metadata": {
    "papermill": {
     "duration": 0.028117,
     "end_time": "2022-01-07T19:17:30.094327",
     "exception": false,
     "start_time": "2022-01-07T19:17:30.066210",
     "status": "completed"
    },
    "tags": []
   },
   "source": [
    "# E. Training"
   ]
  },
  {
   "cell_type": "code",
   "execution_count": 15,
   "id": "783ef159",
   "metadata": {
    "execution": {
     "iopub.execute_input": "2022-01-07T19:17:30.154902Z",
     "iopub.status.busy": "2022-01-07T19:17:30.154243Z",
     "iopub.status.idle": "2022-01-07T19:17:30.156707Z",
     "shell.execute_reply": "2022-01-07T19:17:30.156298Z"
    },
    "papermill": {
     "duration": 0.034134,
     "end_time": "2022-01-07T19:17:30.156802",
     "exception": false,
     "start_time": "2022-01-07T19:17:30.122668",
     "status": "completed"
    },
    "tags": []
   },
   "outputs": [],
   "source": [
    "# basic training configuration\n",
    "FOLDS = 4\n",
    "EPOCHS = 90\n",
    "BATCH_SIZE = 64\n",
    "VERBOSE = 2\n",
    "LR = 0.01"
   ]
  },
  {
   "cell_type": "code",
   "execution_count": 16,
   "id": "585b9ce0",
   "metadata": {
    "execution": {
     "iopub.execute_input": "2022-01-07T19:17:30.222914Z",
     "iopub.status.busy": "2022-01-07T19:17:30.222123Z",
     "iopub.status.idle": "2022-01-07T19:17:30.571675Z",
     "shell.execute_reply": "2022-01-07T19:17:30.571175Z"
    },
    "papermill": {
     "duration": 0.38703,
     "end_time": "2022-01-07T19:17:30.571810",
     "exception": false,
     "start_time": "2022-01-07T19:17:30.184780",
     "status": "completed"
    },
    "tags": []
   },
   "outputs": [],
   "source": [
    "# get different test sets and process each\n",
    "public_df = test.query(\"seq_length == 107\").copy()\n",
    "private_df = test.query(\"seq_length == 130\").copy()\n",
    "\n",
    "public_inputs = torch.tensor(preprocess_inputs(public_df)).to(device)\n",
    "private_inputs = torch.tensor(preprocess_inputs(private_df)).to(device)\n",
    "\n",
    "public_loader = DataLoader(TensorDataset(public_inputs), shuffle=False, batch_size=BATCH_SIZE)\n",
    "private_loader = DataLoader(TensorDataset(private_inputs), shuffle=False, batch_size=BATCH_SIZE)"
   ]
  },
  {
   "cell_type": "markdown",
   "id": "e172019b",
   "metadata": {
    "papermill": {
     "duration": 0.028682,
     "end_time": "2022-01-07T19:17:30.629438",
     "exception": false,
     "start_time": "2022-01-07T19:17:30.600756",
     "status": "completed"
    },
    "tags": []
   },
   "source": [
    "**Add a simple learning rate callback for now:**"
   ]
  },
  {
   "cell_type": "markdown",
   "id": "81e19678",
   "metadata": {
    "papermill": {
     "duration": 0.028245,
     "end_time": "2022-01-07T19:17:30.686837",
     "exception": false,
     "start_time": "2022-01-07T19:17:30.658592",
     "status": "completed"
    },
    "tags": []
   },
   "source": [
    "## 1. GRU"
   ]
  },
  {
   "cell_type": "code",
   "execution_count": 17,
   "id": "4f3f6e6f",
   "metadata": {
    "execution": {
     "iopub.execute_input": "2022-01-07T19:17:30.757512Z",
     "iopub.status.busy": "2022-01-07T19:17:30.756926Z",
     "iopub.status.idle": "2022-01-07T19:23:48.743887Z",
     "shell.execute_reply": "2022-01-07T19:23:48.744866Z"
    },
    "papermill": {
     "duration": 378.030071,
     "end_time": "2022-01-07T19:23:48.745171",
     "exception": false,
     "start_time": "2022-01-07T19:17:30.715100",
     "status": "completed"
    },
    "tags": []
   },
   "outputs": [
    {
     "name": "stderr",
     "output_type": "stream",
     "text": [
      "100%|██████████| 90/90 [01:34<00:00,  1.05s/it]\n",
      "100%|██████████| 90/90 [01:33<00:00,  1.04s/it]\n",
      "100%|██████████| 90/90 [01:33<00:00,  1.04s/it]\n",
      "100%|██████████| 90/90 [01:33<00:00,  1.04s/it]\n"
     ]
    }
   ],
   "source": [
    "gru_histories = []\n",
    "gru_private_preds = np.zeros((private_df.shape[0], 130, 5))\n",
    "gru_public_preds = np.zeros((public_df.shape[0], 107, 5))\n",
    "\n",
    "kfold = KFold(FOLDS, shuffle=True, random_state=2020)\n",
    "\n",
    "for k, (train_index, val_index) in enumerate(kfold.split(train_inputs)):\n",
    "    train_dataset = TensorDataset(train_inputs[train_index], train_labels[train_index])\n",
    "    val_dataset = TensorDataset(train_inputs[val_index], train_labels[val_index])\n",
    "\n",
    "    train_loader = DataLoader(train_dataset, shuffle=True, batch_size=BATCH_SIZE)\n",
    "    val_loader = DataLoader(val_dataset, shuffle=False, batch_size=BATCH_SIZE)\n",
    "\n",
    "    model = GRU_model().to(device)\n",
    "    optimizer = optim.Adam(model.parameters(), lr=LR)\n",
    "\n",
    "    train_losses = []\n",
    "    val_losses = []\n",
    "    for epoch in tqdm(range(EPOCHS)):\n",
    "        train_losses_batch = []\n",
    "        val_losses_batch = []\n",
    "        for (batch_X, batch_Y) in train_loader:\n",
    "            train_loss = compute_loss(batch_X, batch_Y, model, optimizer=optimizer, is_train=True)\n",
    "            train_losses_batch.append(train_loss)\n",
    "        for (batch_X, batch_Y) in val_loader:\n",
    "            val_loss = compute_loss(batch_X, batch_Y, model, optimizer=optimizer, is_train=False)\n",
    "            val_losses_batch.append(val_loss)\n",
    "        train_losses.append(sum(train_losses_batch) / len(train_losses_batch))\n",
    "        val_losses.append(sum(val_losses_batch) / len(val_losses_batch))\n",
    "    model_state = model.state_dict()\n",
    "    del model\n",
    "\n",
    "    gru_histories.append({'train_loss': train_losses, 'val_loss': val_losses})\n",
    "\n",
    "    gru_short = GRU_model(seq_len=107, pred_len=107).to(device)\n",
    "    gru_short.load_state_dict(model_state)\n",
    "    gru_short.eval()\n",
    "    gru_public_pred = np.ndarray((0, 107, 5))\n",
    "    for batch in public_loader:\n",
    "        batch_X = batch[0]\n",
    "        pred = gru_short(batch_X).detach().cpu().numpy()\n",
    "        gru_public_pred = np.concatenate([gru_public_pred, pred], axis=0)\n",
    "    gru_public_preds += gru_public_pred / FOLDS\n",
    "\n",
    "    gru_long = GRU_model(seq_len=130, pred_len=130).to(device)\n",
    "    gru_long.load_state_dict(model_state)\n",
    "    gru_long.eval()\n",
    "    gru_private_pred = np.ndarray((0, 130, 5))\n",
    "    for batch in private_loader:\n",
    "        batch_X = batch[0]\n",
    "        pred = gru_long(batch_X).detach().cpu().numpy()\n",
    "        gru_private_pred = np.concatenate([gru_private_pred, pred], axis=0)\n",
    "    gru_private_preds += gru_private_pred / FOLDS\n",
    "\n",
    "    del gru_short, gru_long"
   ]
  },
  {
   "cell_type": "code",
   "execution_count": 18,
   "id": "8a9bb301",
   "metadata": {
    "execution": {
     "iopub.execute_input": "2022-01-07T19:23:49.111463Z",
     "iopub.status.busy": "2022-01-07T19:23:49.110639Z",
     "iopub.status.idle": "2022-01-07T19:23:49.113741Z",
     "shell.execute_reply": "2022-01-07T19:23:49.114354Z"
    },
    "papermill": {
     "duration": 0.149747,
     "end_time": "2022-01-07T19:23:49.114540",
     "exception": false,
     "start_time": "2022-01-07T19:23:48.964793",
     "status": "completed"
    },
    "tags": []
   },
   "outputs": [
    {
     "name": "stdout",
     "output_type": "stream",
     "text": [
      " GRU mean fold validation loss: 0.09007268957793713\n"
     ]
    }
   ],
   "source": [
    "print(f\" GRU mean fold validation loss: {np.mean([min(history['val_loss']) for history in gru_histories])}\")"
   ]
  },
  {
   "cell_type": "markdown",
   "id": "80c76f41",
   "metadata": {
    "papermill": {
     "duration": 0.136316,
     "end_time": "2022-01-07T19:23:49.385034",
     "exception": false,
     "start_time": "2022-01-07T19:23:49.248718",
     "status": "completed"
    },
    "tags": []
   },
   "source": [
    "## 2. LSTM"
   ]
  },
  {
   "cell_type": "code",
   "execution_count": 19,
   "id": "e8e23620",
   "metadata": {
    "_kg_hide-output": true,
    "execution": {
     "iopub.execute_input": "2022-01-07T19:23:49.672049Z",
     "iopub.status.busy": "2022-01-07T19:23:49.671211Z",
     "iopub.status.idle": "2022-01-07T19:31:02.554058Z",
     "shell.execute_reply": "2022-01-07T19:31:02.553579Z"
    },
    "papermill": {
     "duration": 433.034259,
     "end_time": "2022-01-07T19:31:02.554200",
     "exception": false,
     "start_time": "2022-01-07T19:23:49.519941",
     "status": "completed"
    },
    "tags": []
   },
   "outputs": [
    {
     "name": "stderr",
     "output_type": "stream",
     "text": [
      "100%|██████████| 90/90 [01:47<00:00,  1.19s/it]\n",
      "100%|██████████| 90/90 [01:47<00:00,  1.19s/it]\n",
      "100%|██████████| 90/90 [01:47<00:00,  1.19s/it]\n",
      "100%|██████████| 90/90 [01:46<00:00,  1.19s/it]\n"
     ]
    }
   ],
   "source": [
    "lstm_histories = []\n",
    "lstm_private_preds = np.zeros((private_df.shape[0], 130, 5))\n",
    "lstm_public_preds = np.zeros((public_df.shape[0], 107, 5))\n",
    "\n",
    "kfold = KFold(FOLDS, shuffle=True, random_state=2020)\n",
    "\n",
    "for k, (train_index, val_index) in enumerate(kfold.split(train_inputs)):\n",
    "    train_dataset = TensorDataset(train_inputs[train_index], train_labels[train_index])\n",
    "    val_dataset = TensorDataset(train_inputs[val_index], train_labels[val_index])\n",
    "\n",
    "    train_loader = DataLoader(train_dataset, shuffle=True, batch_size=BATCH_SIZE)\n",
    "    val_loader = DataLoader(val_dataset, shuffle=False, batch_size=BATCH_SIZE)\n",
    "\n",
    "    model = LSTM_model().to(device)\n",
    "    optimizer = optim.Adam(model.parameters(), lr=LR)\n",
    "\n",
    "    train_losses = []\n",
    "    val_losses = []\n",
    "    for epoch in tqdm(range(EPOCHS)):\n",
    "        train_losses_batch = []\n",
    "        val_losses_batch = []\n",
    "        for (batch_X, batch_Y) in train_loader:\n",
    "            train_loss = compute_loss(batch_X, batch_Y, model, optimizer=optimizer, is_train=True)\n",
    "            train_losses_batch.append(train_loss)\n",
    "        for (batch_X, batch_Y) in val_loader:\n",
    "            val_loss = compute_loss(batch_X, batch_Y, model, optimizer=optimizer, is_train=False)\n",
    "            val_losses_batch.append(val_loss)\n",
    "        train_losses.append(sum(train_losses_batch) / len(train_losses_batch))\n",
    "        val_losses.append(sum(val_losses_batch) / len(val_losses_batch))\n",
    "    model_state = model.state_dict()\n",
    "    del model\n",
    "\n",
    "    lstm_histories.append({'train_loss': train_losses, 'val_loss': val_losses})\n",
    "\n",
    "    lstm_short = LSTM_model(seq_len=107, pred_len=107).to(device)\n",
    "    lstm_short.load_state_dict(model_state)\n",
    "    lstm_short.eval()\n",
    "    lstm_public_pred = np.ndarray((0, 107, 5))\n",
    "    for batch in public_loader:\n",
    "        batch_X = batch[0]\n",
    "        pred = lstm_short(batch_X).detach().cpu().numpy()\n",
    "        lstm_public_pred = np.concatenate([lstm_public_pred, pred], axis=0)\n",
    "    lstm_public_preds += lstm_public_pred / FOLDS\n",
    "\n",
    "    lstm_long = LSTM_model(seq_len=130, pred_len=130).to(device)\n",
    "    lstm_long.load_state_dict(model_state)\n",
    "    lstm_long.eval()\n",
    "    lstm_private_pred = np.ndarray((0, 130, 5))\n",
    "    for batch in private_loader:\n",
    "        batch_X = batch[0]\n",
    "        pred = lstm_long(batch_X).detach().cpu().numpy()\n",
    "        lstm_private_pred = np.concatenate([lstm_private_pred, pred], axis=0)\n",
    "    lstm_private_preds += lstm_private_pred / FOLDS\n",
    "\n",
    "    del lstm_short, lstm_long"
   ]
  },
  {
   "cell_type": "code",
   "execution_count": 20,
   "id": "298c337d",
   "metadata": {
    "execution": {
     "iopub.execute_input": "2022-01-07T19:31:02.993790Z",
     "iopub.status.busy": "2022-01-07T19:31:02.993009Z",
     "iopub.status.idle": "2022-01-07T19:31:02.995900Z",
     "shell.execute_reply": "2022-01-07T19:31:02.996337Z"
    },
    "papermill": {
     "duration": 0.227157,
     "end_time": "2022-01-07T19:31:02.996472",
     "exception": false,
     "start_time": "2022-01-07T19:31:02.769315",
     "status": "completed"
    },
    "tags": []
   },
   "outputs": [
    {
     "name": "stdout",
     "output_type": "stream",
     "text": [
      " LSTM mean fold validation loss: 0.05992650892585516\n"
     ]
    }
   ],
   "source": [
    "print(f\" LSTM mean fold validation loss: {np.mean([min(history['val_loss']) for history in lstm_histories])}\")"
   ]
  },
  {
   "cell_type": "code",
   "execution_count": 21,
   "id": "714a62d7",
   "metadata": {
    "_kg_hide-input": true,
    "execution": {
     "iopub.execute_input": "2022-01-07T19:31:03.453894Z",
     "iopub.status.busy": "2022-01-07T19:31:03.453360Z",
     "iopub.status.idle": "2022-01-07T19:31:03.841179Z",
     "shell.execute_reply": "2022-01-07T19:31:03.840723Z"
    },
    "papermill": {
     "duration": 0.623588,
     "end_time": "2022-01-07T19:31:03.841307",
     "exception": false,
     "start_time": "2022-01-07T19:31:03.217719",
     "status": "completed"
    },
    "tags": []
   },
   "outputs": [
    {
     "data": {
      "image/png": "[encoded data removed]",
      "text/plain": [
       "<Figure size 1440x720 with 2 Axes>"
      ]
     },
     "metadata": {
      "needs_background": "light"
     },
     "output_type": "display_data"
    }
   ],
   "source": [
    "fig, ax = plt.subplots(1, 2, figsize=(20, 10))\n",
    "\n",
    "for history in gru_histories:\n",
    "    ax[0].plot(history['train_loss'], 'b')\n",
    "    ax[0].plot(history['val_loss'], 'r')\n",
    "for history in lstm_histories:\n",
    "    ax[1].plot(history['train_loss'], 'b')\n",
    "    ax[1].plot(history['val_loss'], 'r')\n",
    "\n",
    "ax[0].set_title('GRU')\n",
    "ax[1].set_title('LSTM')\n",
    "\n",
    "ax[0].legend(['train', 'validation'], loc='upper right')\n",
    "ax[1].legend(['train', 'validation'], loc='upper right')\n",
    "\n",
    "ax[0].set_ylabel('Loss')\n",
    "ax[0].set_xlabel('Epoch')\n",
    "ax[1].set_ylabel('Loss')\n",
    "ax[1].set_xlabel('Epoch');"
   ]
  },
  {
   "cell_type": "markdown",
   "id": "79c91ca9",
   "metadata": {
    "papermill": {
     "duration": 0.219088,
     "end_time": "2022-01-07T19:31:04.280311",
     "exception": false,
     "start_time": "2022-01-07T19:31:04.061223",
     "status": "completed"
    },
    "tags": []
   },
   "source": [
    "# F. Submission"
   ]
  },
  {
   "cell_type": "code",
   "execution_count": 22,
   "id": "6ed56be0",
   "metadata": {
    "execution": {
     "iopub.execute_input": "2022-01-07T19:31:04.781135Z",
     "iopub.status.busy": "2022-01-07T19:31:04.780153Z",
     "iopub.status.idle": "2022-01-07T19:31:05.074318Z",
     "shell.execute_reply": "2022-01-07T19:31:05.074738Z"
    },
    "papermill": {
     "duration": 0.575082,
     "end_time": "2022-01-07T19:31:05.074898",
     "exception": false,
     "start_time": "2022-01-07T19:31:04.499816",
     "status": "completed"
    },
    "tags": []
   },
   "outputs": [],
   "source": [
    "public_df = test.query(\"seq_length == 107\").copy()\n",
    "private_df = test.query(\"seq_length == 130\").copy()\n",
    "\n",
    "public_inputs = preprocess_inputs(public_df)\n",
    "private_inputs = preprocess_inputs(private_df)"
   ]
  },
  {
   "cell_type": "markdown",
   "id": "1a604792",
   "metadata": {
    "papermill": {
     "duration": 0.218415,
     "end_time": "2022-01-07T19:31:05.513502",
     "exception": false,
     "start_time": "2022-01-07T19:31:05.295087",
     "status": "completed"
    },
    "tags": []
   },
   "source": [
    "**Just need to change the shape of each sample to long format:**"
   ]
  },
  {
   "cell_type": "code",
   "execution_count": 23,
   "id": "ed0226b2",
   "metadata": {
    "execution": {
     "iopub.execute_input": "2022-01-07T19:31:05.972835Z",
     "iopub.status.busy": "2022-01-07T19:31:05.971915Z",
     "iopub.status.idle": "2022-01-07T19:31:08.977306Z",
     "shell.execute_reply": "2022-01-07T19:31:08.976775Z"
    },
    "papermill": {
     "duration": 3.247809,
     "end_time": "2022-01-07T19:31:08.977430",
     "exception": false,
     "start_time": "2022-01-07T19:31:05.729621",
     "status": "completed"
    },
    "tags": []
   },
   "outputs": [
    {
     "data": {
      "text/html": [
       "<div>\n",
       "<style scoped>\n",
       "    .dataframe tbody tr th:only-of-type {\n",
       "        vertical-align: middle;\n",
       "    }\n",
       "\n",
       "    .dataframe tbody tr th {\n",
       "        vertical-align: top;\n",
       "    }\n",
       "\n",
       "    .dataframe thead th {\n",
       "        text-align: right;\n",
       "    }\n",
       "</style>\n",
       "<table border=\"1\" class=\"dataframe\">\n",
       "  <thead>\n",
       "    <tr style=\"text-align: right;\">\n",
       "      <th></th>\n",
       "      <th>reactivity</th>\n",
       "      <th>deg_Mg_pH10</th>\n",
       "      <th>deg_pH10</th>\n",
       "      <th>deg_Mg_50C</th>\n",
       "      <th>deg_50C</th>\n",
       "      <th>id_seqpos</th>\n",
       "    </tr>\n",
       "  </thead>\n",
       "  <tbody>\n",
       "    <tr>\n",
       "      <th>0</th>\n",
       "      <td>0.743401</td>\n",
       "      <td>0.697540</td>\n",
       "      <td>2.067680</td>\n",
       "      <td>0.552542</td>\n",
       "      <td>0.699264</td>\n",
       "      <td>id_00073f8be_0</td>\n",
       "    </tr>\n",
       "    <tr>\n",
       "      <th>1</th>\n",
       "      <td>2.457190</td>\n",
       "      <td>3.553205</td>\n",
       "      <td>4.469412</td>\n",
       "      <td>3.482400</td>\n",
       "      <td>2.840314</td>\n",
       "      <td>id_00073f8be_1</td>\n",
       "    </tr>\n",
       "    <tr>\n",
       "      <th>2</th>\n",
       "      <td>1.216492</td>\n",
       "      <td>0.631993</td>\n",
       "      <td>0.820197</td>\n",
       "      <td>0.918975</td>\n",
       "      <td>0.905138</td>\n",
       "      <td>id_00073f8be_2</td>\n",
       "    </tr>\n",
       "    <tr>\n",
       "      <th>3</th>\n",
       "      <td>1.279410</td>\n",
       "      <td>1.105466</td>\n",
       "      <td>1.175015</td>\n",
       "      <td>1.354291</td>\n",
       "      <td>1.221545</td>\n",
       "      <td>id_00073f8be_3</td>\n",
       "    </tr>\n",
       "    <tr>\n",
       "      <th>4</th>\n",
       "      <td>0.917775</td>\n",
       "      <td>0.699985</td>\n",
       "      <td>0.806467</td>\n",
       "      <td>0.931036</td>\n",
       "      <td>0.894239</td>\n",
       "      <td>id_00073f8be_4</td>\n",
       "    </tr>\n",
       "  </tbody>\n",
       "</table>\n",
       "</div>"
      ],
      "text/plain": [
       "   reactivity  deg_Mg_pH10  deg_pH10  deg_Mg_50C   deg_50C       id_seqpos\n",
       "0    0.743401     0.697540  2.067680    0.552542  0.699264  id_00073f8be_0\n",
       "1    2.457190     3.553205  4.469412    3.482400  2.840314  id_00073f8be_1\n",
       "2    1.216492     0.631993  0.820197    0.918975  0.905138  id_00073f8be_2\n",
       "3    1.279410     1.105466  1.175015    1.354291  1.221545  id_00073f8be_3\n",
       "4    0.917775     0.699985  0.806467    0.931036  0.894239  id_00073f8be_4"
      ]
     },
     "execution_count": 23,
     "metadata": {},
     "output_type": "execute_result"
    }
   ],
   "source": [
    "preds_gru = []\n",
    "\n",
    "for df, preds in [(public_df, gru_public_preds), (private_df, gru_private_preds)]:\n",
    "    for i, uid in enumerate(df.id):\n",
    "        single_pred = preds[i]\n",
    "\n",
    "        single_df = pd.DataFrame(single_pred, columns=target_cols)\n",
    "        single_df['id_seqpos'] = [f'{uid}_{x}' for x in range(single_df.shape[0])]\n",
    "\n",
    "        preds_gru.append(single_df)\n",
    "\n",
    "preds_gru_df = pd.concat(preds_gru)\n",
    "preds_gru_df.head()"
   ]
  },
  {
   "cell_type": "code",
   "execution_count": 24,
   "id": "150d3651",
   "metadata": {
    "execution": {
     "iopub.execute_input": "2022-01-07T19:31:09.445140Z",
     "iopub.status.busy": "2022-01-07T19:31:09.435509Z",
     "iopub.status.idle": "2022-01-07T19:31:12.069514Z",
     "shell.execute_reply": "2022-01-07T19:31:12.068998Z"
    },
    "papermill": {
     "duration": 2.871458,
     "end_time": "2022-01-07T19:31:12.069651",
     "exception": false,
     "start_time": "2022-01-07T19:31:09.198193",
     "status": "completed"
    },
    "tags": []
   },
   "outputs": [
    {
     "data": {
      "text/html": [
       "<div>\n",
       "<style scoped>\n",
       "    .dataframe tbody tr th:only-of-type {\n",
       "        vertical-align: middle;\n",
       "    }\n",
       "\n",
       "    .dataframe tbody tr th {\n",
       "        vertical-align: top;\n",
       "    }\n",
       "\n",
       "    .dataframe thead th {\n",
       "        text-align: right;\n",
       "    }\n",
       "</style>\n",
       "<table border=\"1\" class=\"dataframe\">\n",
       "  <thead>\n",
       "    <tr style=\"text-align: right;\">\n",
       "      <th></th>\n",
       "      <th>reactivity</th>\n",
       "      <th>deg_Mg_pH10</th>\n",
       "      <th>deg_pH10</th>\n",
       "      <th>deg_Mg_50C</th>\n",
       "      <th>deg_50C</th>\n",
       "      <th>id_seqpos</th>\n",
       "    </tr>\n",
       "  </thead>\n",
       "  <tbody>\n",
       "    <tr>\n",
       "      <th>0</th>\n",
       "      <td>0.879625</td>\n",
       "      <td>0.767891</td>\n",
       "      <td>2.154870</td>\n",
       "      <td>0.605027</td>\n",
       "      <td>0.768817</td>\n",
       "      <td>id_00073f8be_0</td>\n",
       "    </tr>\n",
       "    <tr>\n",
       "      <th>1</th>\n",
       "      <td>2.936622</td>\n",
       "      <td>3.757296</td>\n",
       "      <td>4.890235</td>\n",
       "      <td>3.666620</td>\n",
       "      <td>3.053084</td>\n",
       "      <td>id_00073f8be_1</td>\n",
       "    </tr>\n",
       "    <tr>\n",
       "      <th>2</th>\n",
       "      <td>1.554308</td>\n",
       "      <td>0.565262</td>\n",
       "      <td>0.730858</td>\n",
       "      <td>0.690977</td>\n",
       "      <td>0.738789</td>\n",
       "      <td>id_00073f8be_2</td>\n",
       "    </tr>\n",
       "    <tr>\n",
       "      <th>3</th>\n",
       "      <td>1.354565</td>\n",
       "      <td>1.161131</td>\n",
       "      <td>1.361000</td>\n",
       "      <td>1.713031</td>\n",
       "      <td>1.553826</td>\n",
       "      <td>id_00073f8be_3</td>\n",
       "    </tr>\n",
       "    <tr>\n",
       "      <th>4</th>\n",
       "      <td>0.881745</td>\n",
       "      <td>0.699173</td>\n",
       "      <td>0.819848</td>\n",
       "      <td>0.958250</td>\n",
       "      <td>0.923736</td>\n",
       "      <td>id_00073f8be_4</td>\n",
       "    </tr>\n",
       "  </tbody>\n",
       "</table>\n",
       "</div>"
      ],
      "text/plain": [
       "   reactivity  deg_Mg_pH10  deg_pH10  deg_Mg_50C   deg_50C       id_seqpos\n",
       "0    0.879625     0.767891  2.154870    0.605027  0.768817  id_00073f8be_0\n",
       "1    2.936622     3.757296  4.890235    3.666620  3.053084  id_00073f8be_1\n",
       "2    1.554308     0.565262  0.730858    0.690977  0.738789  id_00073f8be_2\n",
       "3    1.354565     1.161131  1.361000    1.713031  1.553826  id_00073f8be_3\n",
       "4    0.881745     0.699173  0.819848    0.958250  0.923736  id_00073f8be_4"
      ]
     },
     "execution_count": 24,
     "metadata": {},
     "output_type": "execute_result"
    }
   ],
   "source": [
    "preds_lstm = []\n",
    "\n",
    "for df, preds in [(public_df, lstm_public_preds), (private_df, lstm_private_preds)]:\n",
    "    for i, uid in enumerate(df.id):\n",
    "        single_pred = preds[i]\n",
    "\n",
    "        single_df = pd.DataFrame(single_pred, columns=target_cols)\n",
    "        single_df['id_seqpos'] = [f'{uid}_{x}' for x in range(single_df.shape[0])]\n",
    "\n",
    "        preds_lstm.append(single_df)\n",
    "\n",
    "preds_lstm_df = pd.concat(preds_lstm)\n",
    "preds_lstm_df.head()"
   ]
  },
  {
   "cell_type": "code",
   "execution_count": 25,
   "id": "229d9a8e",
   "metadata": {
    "execution": {
     "iopub.execute_input": "2022-01-07T19:31:12.585417Z",
     "iopub.status.busy": "2022-01-07T19:31:12.584418Z",
     "iopub.status.idle": "2022-01-07T19:31:12.632256Z",
     "shell.execute_reply": "2022-01-07T19:31:12.631727Z"
    },
    "papermill": {
     "duration": 0.313966,
     "end_time": "2022-01-07T19:31:12.632390",
     "exception": false,
     "start_time": "2022-01-07T19:31:12.318424",
     "status": "completed"
    },
    "tags": []
   },
   "outputs": [],
   "source": [
    "blend_preds_df = pd.DataFrame()\n",
    "blend_preds_df['id_seqpos'] = preds_gru_df['id_seqpos']\n",
    "blend_preds_df['reactivity'] = .5 * preds_gru_df['reactivity'] + .5 * preds_lstm_df['reactivity']\n",
    "blend_preds_df['deg_Mg_pH10'] = .5 * preds_gru_df['deg_Mg_pH10'] + .5 * preds_lstm_df['deg_Mg_pH10']\n",
    "blend_preds_df['deg_pH10'] = .5 * preds_gru_df['deg_pH10'] + .5 * preds_lstm_df['deg_pH10']\n",
    "blend_preds_df['deg_Mg_50C'] = .5 * preds_gru_df['deg_Mg_50C'] + .5 * preds_lstm_df['deg_Mg_50C']\n",
    "blend_preds_df['deg_50C'] = .5 * preds_gru_df['deg_50C'] + .5 * preds_lstm_df['deg_50C']"
   ]
  },
  {
   "cell_type": "code",
   "execution_count": 26,
   "id": "b3af2554",
   "metadata": {
    "execution": {
     "iopub.execute_input": "2022-01-07T19:31:13.077699Z",
     "iopub.status.busy": "2022-01-07T19:31:13.076971Z",
     "iopub.status.idle": "2022-01-07T19:31:13.407288Z",
     "shell.execute_reply": "2022-01-07T19:31:13.406768Z"
    },
    "papermill": {
     "duration": 0.554976,
     "end_time": "2022-01-07T19:31:13.407434",
     "exception": false,
     "start_time": "2022-01-07T19:31:12.852458",
     "status": "completed"
    },
    "tags": []
   },
   "outputs": [
    {
     "data": {
      "text/html": [
       "<div>\n",
       "<style scoped>\n",
       "    .dataframe tbody tr th:only-of-type {\n",
       "        vertical-align: middle;\n",
       "    }\n",
       "\n",
       "    .dataframe tbody tr th {\n",
       "        vertical-align: top;\n",
       "    }\n",
       "\n",
       "    .dataframe thead th {\n",
       "        text-align: right;\n",
       "    }\n",
       "</style>\n",
       "<table border=\"1\" class=\"dataframe\">\n",
       "  <thead>\n",
       "    <tr style=\"text-align: right;\">\n",
       "      <th></th>\n",
       "      <th>id_seqpos</th>\n",
       "      <th>reactivity</th>\n",
       "      <th>deg_Mg_pH10</th>\n",
       "      <th>deg_pH10</th>\n",
       "      <th>deg_Mg_50C</th>\n",
       "      <th>deg_50C</th>\n",
       "    </tr>\n",
       "  </thead>\n",
       "  <tbody>\n",
       "    <tr>\n",
       "      <th>0</th>\n",
       "      <td>id_00073f8be_0</td>\n",
       "      <td>0.811513</td>\n",
       "      <td>0.732715</td>\n",
       "      <td>2.111275</td>\n",
       "      <td>0.578784</td>\n",
       "      <td>0.734041</td>\n",
       "    </tr>\n",
       "    <tr>\n",
       "      <th>1</th>\n",
       "      <td>id_00073f8be_1</td>\n",
       "      <td>2.696906</td>\n",
       "      <td>3.655251</td>\n",
       "      <td>4.679823</td>\n",
       "      <td>3.574510</td>\n",
       "      <td>2.946699</td>\n",
       "    </tr>\n",
       "    <tr>\n",
       "      <th>2</th>\n",
       "      <td>id_00073f8be_2</td>\n",
       "      <td>1.385400</td>\n",
       "      <td>0.598627</td>\n",
       "      <td>0.775528</td>\n",
       "      <td>0.804976</td>\n",
       "      <td>0.821963</td>\n",
       "    </tr>\n",
       "    <tr>\n",
       "      <th>3</th>\n",
       "      <td>id_00073f8be_3</td>\n",
       "      <td>1.316987</td>\n",
       "      <td>1.133298</td>\n",
       "      <td>1.268008</td>\n",
       "      <td>1.533661</td>\n",
       "      <td>1.387685</td>\n",
       "    </tr>\n",
       "    <tr>\n",
       "      <th>4</th>\n",
       "      <td>id_00073f8be_4</td>\n",
       "      <td>0.899760</td>\n",
       "      <td>0.699579</td>\n",
       "      <td>0.813157</td>\n",
       "      <td>0.944643</td>\n",
       "      <td>0.908987</td>\n",
       "    </tr>\n",
       "  </tbody>\n",
       "</table>\n",
       "</div>"
      ],
      "text/plain": [
       "        id_seqpos  reactivity  deg_Mg_pH10  deg_pH10  deg_Mg_50C   deg_50C\n",
       "0  id_00073f8be_0    0.811513     0.732715  2.111275    0.578784  0.734041\n",
       "1  id_00073f8be_1    2.696906     3.655251  4.679823    3.574510  2.946699\n",
       "2  id_00073f8be_2    1.385400     0.598627  0.775528    0.804976  0.821963\n",
       "3  id_00073f8be_3    1.316987     1.133298  1.268008    1.533661  1.387685\n",
       "4  id_00073f8be_4    0.899760     0.699579  0.813157    0.944643  0.908987"
      ]
     },
     "execution_count": 26,
     "metadata": {},
     "output_type": "execute_result"
    }
   ],
   "source": [
    "submission = sample_sub[['id_seqpos']].merge(blend_preds_df, on=['id_seqpos'])\n",
    "\n",
    "# sanity check\n",
    "submission.head()"
   ]
  },
  {
   "cell_type": "code",
   "execution_count": 27,
   "id": "46041e39",
   "metadata": {
    "execution": {
     "iopub.execute_input": "2022-01-07T19:31:13.856512Z",
     "iopub.status.busy": "2022-01-07T19:31:13.855780Z",
     "iopub.status.idle": "2022-01-07T19:31:18.496289Z",
     "shell.execute_reply": "2022-01-07T19:31:18.496706Z"
    },
    "papermill": {
     "duration": 4.866907,
     "end_time": "2022-01-07T19:31:18.496852",
     "exception": false,
     "start_time": "2022-01-07T19:31:13.629945",
     "status": "completed"
    },
    "pycharm": {
     "name": "#%%\n"
    },
    "tags": []
   },
   "outputs": [
    {
     "name": "stdout",
     "output_type": "stream",
     "text": [
      "Submission saved\n"
     ]
    }
   ],
   "source": [
    "submission.to_csv('submission.csv', index=False)\n",
    "print('Submission saved')"
   ]
  }
 ],
 "metadata": {
  "kernelspec": {
   "display_name": "Python 3",
   "language": "python",
   "name": "python3"
  },
  "language_info": {
   "codemirror_mode": {
    "name": "ipython",
    "version": 3
   },
   "file_extension": ".py",
   "mimetype": "text/x-python",
   "name": "python",
   "nbconvert_exporter": "python",
   "pygments_lexer": "ipython3",
   "version": "3.7.12"
  },
  "papermill": {
   "default_parameters": {},
   "duration": 847.75395,
   "end_time": "2022-01-07T19:31:21.263409",
   "environment_variables": {},
   "exception": null,
   "input_path": "__notebook__.ipynb",
   "output_path": "__notebook__.ipynb",
   "parameters": {},
   "start_time": "2022-01-07T19:17:13.509459",
   "version": "2.3.3"
  }
 },
 "nbformat": 4,
 "nbformat_minor": 5
}
